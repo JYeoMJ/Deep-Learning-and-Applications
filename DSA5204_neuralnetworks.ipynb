{
 "cells": [
  {
   "cell_type": "markdown",
   "metadata": {},
   "source": [
    "# Preface\n",
    "\n",
    "In this notebook, we introduce basics of building neural network models using the `keras` API over the `tensorflow` library. This significantly simplifies model building and prototyping.\n",
    "\n",
    "Install `tensorflow` (which now contains the `keras` API under `tf.keras`) by issuing\n",
    "\n",
    "```\n",
    "$pip install tensorflow\n",
    "```\n",
    "\n",
    "We will assume that you are using tensorflow v2.0.0 or later. You can check this by\n",
    "```python\n",
    "import tensorflow as tf\n",
    "print(tf.__version__)\n",
    "```"
   ]
  },
  {
   "cell_type": "code",
   "execution_count": 1,
   "metadata": {},
   "outputs": [],
   "source": [
    "import tensorflow as tf\n",
    "import seaborn as sns\n",
    "import matplotlib.pyplot as plt\n",
    "import numpy as np\n",
    "sns.set(font_scale=1.5)"
   ]
  },
  {
   "cell_type": "markdown",
   "metadata": {},
   "source": [
    "# MNIST Dataset\n",
    "\n",
    "The MNIST dataset (http://yann.lecun.com/exdb/mnist/) is one of the simplest classification models. \n",
    "\n",
    "It consists of a collection of hand-written digits from 0 to 9. The goal is to build a classifier for this 10-class multi-class classification problem.\n",
    "\n",
    "The dataset can be conveniently imported through the `tf.keras.datasets` API."
   ]
  },
  {
   "cell_type": "code",
   "execution_count": 51,
   "metadata": {},
   "outputs": [],
   "source": [
    "(x_train, y_train), (x_test, y_test) = tf.keras.datasets.mnist.load_data()"
   ]
  },
  {
   "cell_type": "markdown",
   "metadata": {},
   "source": [
    "# Preprocessing\n",
    "\n",
    "Let's first check the data shape and format."
   ]
  },
  {
   "cell_type": "code",
   "execution_count": 33,
   "metadata": {},
   "outputs": [
    {
     "name": "stdout",
     "output_type": "stream",
     "text": [
      "(60000, 28, 28)\n",
      "(60000,)\n",
      "(10000, 28, 28)\n",
      "(10000,)\n"
     ]
    }
   ],
   "source": [
    "print(x_train.shape)\n",
    "print(y_train.shape)\n",
    "print(x_test.shape)\n",
    "print(y_test.shape)"
   ]
  },
  {
   "cell_type": "code",
   "execution_count": 4,
   "metadata": {},
   "outputs": [
    {
     "data": {
      "text/plain": [
       "<AxesSubplot: >"
      ]
     },
     "execution_count": 4,
     "metadata": {},
     "output_type": "execute_result"
    },
    {
     "data": {
      "image/png": "[encoded data removed]",
      "text/plain": [
       "<Figure size 432x288 with 2 Axes>"
      ]
     },
     "metadata": {
      "needs_background": "light"
     },
     "output_type": "display_data"
    }
   ],
   "source": [
    "sns.heatmap(x_train[0])"
   ]
  },
  {
   "cell_type": "markdown",
   "metadata": {},
   "source": [
    "As can be seen, each input sample is a 28x28 picture, with each pixel a grayscale value from 0-255. \n",
    "\n",
    "We will perform the following preprocessing:\n",
    "  * Flatten the input into a data matrix [num_samples, 28, 28] $\\rightarrow$ [num_samples, 784]\n",
    "  * Rescale the pixel values from [0,255] to [0,1]"
   ]
  },
  {
   "cell_type": "code",
   "execution_count": 56,
   "metadata": {},
   "outputs": [],
   "source": [
    "x_train = x_train.reshape(-1, 784) / 255.0\n",
    "x_test = x_test.reshape(-1, 784) / 255.0"
   ]
  },
  {
   "cell_type": "code",
   "execution_count": 57,
   "metadata": {},
   "outputs": [
    {
     "name": "stdout",
     "output_type": "stream",
     "text": [
      "(784,)\n"
     ]
    }
   ],
   "source": [
    "print(x_train[1].shape) # flattened image as vector"
   ]
  },
  {
   "cell_type": "markdown",
   "metadata": {},
   "source": [
    "Next, let us look at the format of the labels"
   ]
  },
  {
   "cell_type": "code",
   "execution_count": 58,
   "metadata": {},
   "outputs": [
    {
     "name": "stdout",
     "output_type": "stream",
     "text": [
      "[5 0 4 ... 5 6 8]\n"
     ]
    }
   ],
   "source": [
    "print(y_train) # labels (i.e. ground truth)"
   ]
  },
  {
   "cell_type": "markdown",
   "metadata": {},
   "source": [
    "The labels are the actual numerical values. But for this classification problem we should not use the ordinal data as is. Instead, we convert them into a one-hot encoding, e.g.\n",
    "$$\n",
    "    5 \\rightarrow [0, 0, 0, 0, 0, 1, 0, 0, 0, 0] \\\\\n",
    "    3 \\rightarrow [0, 0, 0, 1, 0, 0, 0, 0, 0, 0]\n",
    "$$\n",
    "\n",
    "This can be done calling `tf.keras.utils.to_categorical` on the inputs."
   ]
  },
  {
   "cell_type": "code",
   "execution_count": 7,
   "metadata": {},
   "outputs": [],
   "source": [
    "y_train = tf.keras.utils.to_categorical(y_train)\n",
    "y_test = tf.keras.utils.to_categorical(y_test)"
   ]
  },
  {
   "cell_type": "code",
   "execution_count": 8,
   "metadata": {},
   "outputs": [
    {
     "name": "stdout",
     "output_type": "stream",
     "text": [
      "[0. 0. 0. 0. 0. 1. 0. 0. 0. 0.]\n"
     ]
    }
   ],
   "source": [
    "print(y_train[0])"
   ]
  },
  {
   "cell_type": "code",
   "execution_count": 9,
   "metadata": {},
   "outputs": [
    {
     "data": {
      "text/plain": [
       "(60000, 10)"
      ]
     },
     "execution_count": 9,
     "metadata": {},
     "output_type": "execute_result"
    }
   ],
   "source": [
    "y_train.shape"
   ]
  },
  {
   "cell_type": "markdown",
   "metadata": {},
   "source": [
    "# Building a simple neural network\n",
    "\n",
    "Here we will build and train a simple neural network for this classification problem.\n",
    "\n",
    "We will use the `Sequential` model API. A *model* in keras represents a high level abstraction of a neural network. It consists of a collection of *layers*, and training/evaluation and other common tasks are all handled at the model level.\n",
    "\n",
    "The *sequential* model is a special type of models where it is a linear stack of layers, and will suffice for our current task. In future demos we will explore other types of models supported by `Keras`. For more information, you may check here: https://keras.io/models/about-keras-models/\n",
    "\n"
   ]
  },
  {
   "cell_type": "code",
   "execution_count": 10,
   "metadata": {},
   "outputs": [],
   "source": [
    "from tensorflow.keras import Sequential"
   ]
  },
  {
   "cell_type": "code",
   "execution_count": 11,
   "metadata": {},
   "outputs": [],
   "source": [
    "model = Sequential()"
   ]
  },
  {
   "cell_type": "markdown",
   "metadata": {},
   "source": [
    "We want to build a simple 1-hidden-layer (shallow) neural network in the form of \n",
    "$$\n",
    "    h = g(Wx + c) \\\\\n",
    "    y = Vh + b\n",
    "$$\n",
    "We will use the ReLU activation\n",
    "$$\n",
    "    g(z) = \\max(0, z)\n",
    "$$\n",
    "The number of hidden units is given by the first dimension of W (or the dimension of c) and the number of output units is 10, since we are considering a 10-class classification problem.\n",
    "\n",
    "Both of these layers can be implemented by the `Dense` layer type from `tf.keras.layers`. We will first use a hidden dimension of 128."
   ]
  },
  {
   "cell_type": "code",
   "execution_count": 12,
   "metadata": {},
   "outputs": [],
   "source": [
    "from tensorflow.keras.layers import Dense"
   ]
  },
  {
   "cell_type": "code",
   "execution_count": 13,
   "metadata": {},
   "outputs": [],
   "source": [
    "model.add(Dense(units=128, activation='relu')) # hidden layer\n",
    "model.add(Dense(units=10, activation='softmax')) # output layer"
   ]
  },
  {
   "cell_type": "markdown",
   "metadata": {},
   "source": [
    "# Compiling and Training\n",
    "\n",
    "Now, let us specify losses and optimizers using the `compile` method and train the neural network using the `fit` method.\n",
    "\n",
    "Here, we will use the *cross-entropy* loss and the *SGD* optimizer, which stands for stochastic gradient descent. We have only introduced the usual gradient descent in class, but we will discuss its extension to the stochastic case to handle large datasets in a later lecture. By setting `batch_size` to be equal to the size of the training set, SGD is equivalent to GD.\n",
    "\n",
    "In the `compile` method, we can also specify additional quantities to monitor during training, in addition to the loss. Recall that we are using the cross-entropy loss as a surrogate of the accuracy (0-1 loss), so let us monitor the accuracy also."
   ]
  },
  {
   "cell_type": "code",
   "execution_count": 14,
   "metadata": {},
   "outputs": [],
   "source": [
    "from tensorflow.keras.optimizers import SGD"
   ]
  },
  {
   "cell_type": "code",
   "execution_count": 15,
   "metadata": {},
   "outputs": [],
   "source": [
    "model.compile(loss='categorical_crossentropy', optimizer=SGD(learning_rate=0.25), metrics=['accuracy'])"
   ]
  },
  {
   "cell_type": "markdown",
   "metadata": {},
   "source": [
    "We are now ready to train the model.\n",
    "\n",
    "We are going to use the inefficient GD, which requires batch_size to be set to the total number of samples. To make training faster, we are going to only use the first 5000 data points for faster training.\n",
    "\n",
    "Here `epochs` refers to the number of sweeps through our training set. Since we are doing GD, each iteration is one sweep, and hence one epoch. "
   ]
  },
  {
   "cell_type": "code",
   "execution_count": 16,
   "metadata": {},
   "outputs": [],
   "source": [
    "# x_train = x_train[:5000]\n",
    "# y_train = y_train[:5000]"
   ]
  },
  {
   "cell_type": "code",
   "execution_count": 17,
   "metadata": {
    "scrolled": true
   },
   "outputs": [
    {
     "name": "stdout",
     "output_type": "stream",
     "text": [
      "Epoch 1/200\n"
     ]
    },
    {
     "name": "stderr",
     "output_type": "stream",
     "text": [
      "2023-02-02 13:53:20.224185: W tensorflow/tsl/platform/profile_utils/cpu_utils.cc:128] Failed to get CPU frequency: 0 Hz\n"
     ]
    },
    {
     "name": "stdout",
     "output_type": "stream",
     "text": [
      "1/1 [==============================] - 1s 797ms/step - loss: 2.3438 - accuracy: 0.1253 - val_loss: 2.0929 - val_accuracy: 0.3109\n",
      "Epoch 2/200\n",
      "1/1 [==============================] - 0s 149ms/step - loss: 2.0934 - accuracy: 0.3144 - val_loss: 1.9110 - val_accuracy: 0.4870\n",
      "Epoch 3/200\n",
      "1/1 [==============================] - 0s 141ms/step - loss: 1.9160 - accuracy: 0.4810 - val_loss: 1.7381 - val_accuracy: 0.6106\n",
      "Epoch 4/200\n",
      "1/1 [==============================] - 0s 143ms/step - loss: 1.7464 - accuracy: 0.6033 - val_loss: 1.5755 - val_accuracy: 0.6787\n",
      "Epoch 5/200\n",
      "1/1 [==============================] - 0s 144ms/step - loss: 1.5867 - accuracy: 0.6717 - val_loss: 1.4277 - val_accuracy: 0.7206\n",
      "Epoch 6/200\n",
      "1/1 [==============================] - 0s 153ms/step - loss: 1.4412 - accuracy: 0.7148 - val_loss: 1.2971 - val_accuracy: 0.7499\n",
      "Epoch 7/200\n",
      "1/1 [==============================] - 0s 142ms/step - loss: 1.3125 - accuracy: 0.7423 - val_loss: 1.1843 - val_accuracy: 0.7670\n",
      "Epoch 8/200\n",
      "1/1 [==============================] - 0s 139ms/step - loss: 1.2013 - accuracy: 0.7621 - val_loss: 1.0885 - val_accuracy: 0.7852\n",
      "Epoch 9/200\n",
      "1/1 [==============================] - 0s 140ms/step - loss: 1.1069 - accuracy: 0.7795 - val_loss: 1.0078 - val_accuracy: 0.7979\n",
      "Epoch 10/200\n",
      "1/1 [==============================] - 0s 139ms/step - loss: 1.0272 - accuracy: 0.7915 - val_loss: 0.9398 - val_accuracy: 0.8076\n",
      "Epoch 11/200\n",
      "1/1 [==============================] - 0s 140ms/step - loss: 0.9600 - accuracy: 0.8011 - val_loss: 0.8823 - val_accuracy: 0.8157\n",
      "Epoch 12/200\n",
      "1/1 [==============================] - 0s 148ms/step - loss: 0.9032 - accuracy: 0.8099 - val_loss: 0.8335 - val_accuracy: 0.8235\n",
      "Epoch 13/200\n",
      "1/1 [==============================] - 0s 144ms/step - loss: 0.8547 - accuracy: 0.8170 - val_loss: 0.7915 - val_accuracy: 0.8291\n",
      "Epoch 14/200\n",
      "1/1 [==============================] - 0s 149ms/step - loss: 0.8131 - accuracy: 0.8232 - val_loss: 0.7553 - val_accuracy: 0.8362\n",
      "Epoch 15/200\n",
      "1/1 [==============================] - 0s 189ms/step - loss: 0.7772 - accuracy: 0.8280 - val_loss: 0.7238 - val_accuracy: 0.8421\n",
      "Epoch 16/200\n",
      "1/1 [==============================] - 0s 283ms/step - loss: 0.7458 - accuracy: 0.8324 - val_loss: 0.6961 - val_accuracy: 0.8451\n",
      "Epoch 17/200\n",
      "1/1 [==============================] - 0s 283ms/step - loss: 0.7183 - accuracy: 0.8366 - val_loss: 0.6716 - val_accuracy: 0.8494\n",
      "Epoch 18/200\n",
      "1/1 [==============================] - 0s 318ms/step - loss: 0.6938 - accuracy: 0.8406 - val_loss: 0.6498 - val_accuracy: 0.8533\n",
      "Epoch 19/200\n",
      "1/1 [==============================] - 0s 328ms/step - loss: 0.6721 - accuracy: 0.8441 - val_loss: 0.6302 - val_accuracy: 0.8554\n",
      "Epoch 20/200\n",
      "1/1 [==============================] - 0s 300ms/step - loss: 0.6526 - accuracy: 0.8470 - val_loss: 0.6126 - val_accuracy: 0.8593\n",
      "Epoch 21/200\n",
      "1/1 [==============================] - 0s 327ms/step - loss: 0.6349 - accuracy: 0.8501 - val_loss: 0.5967 - val_accuracy: 0.8616\n",
      "Epoch 22/200\n",
      "1/1 [==============================] - 0s 295ms/step - loss: 0.6190 - accuracy: 0.8517 - val_loss: 0.5822 - val_accuracy: 0.8638\n",
      "Epoch 23/200\n",
      "1/1 [==============================] - 0s 314ms/step - loss: 0.6044 - accuracy: 0.8540 - val_loss: 0.5690 - val_accuracy: 0.8663\n",
      "Epoch 24/200\n",
      "1/1 [==============================] - 0s 288ms/step - loss: 0.5912 - accuracy: 0.8559 - val_loss: 0.5570 - val_accuracy: 0.8662\n",
      "Epoch 25/200\n",
      "1/1 [==============================] - 0s 345ms/step - loss: 0.5791 - accuracy: 0.8583 - val_loss: 0.5459 - val_accuracy: 0.8691\n",
      "Epoch 26/200\n",
      "1/1 [==============================] - 0s 313ms/step - loss: 0.5680 - accuracy: 0.8599 - val_loss: 0.5360 - val_accuracy: 0.8690\n",
      "Epoch 27/200\n",
      "1/1 [==============================] - 0s 310ms/step - loss: 0.5579 - accuracy: 0.8616 - val_loss: 0.5269 - val_accuracy: 0.8712\n",
      "Epoch 28/200\n",
      "1/1 [==============================] - 0s 311ms/step - loss: 0.5488 - accuracy: 0.8633 - val_loss: 0.5193 - val_accuracy: 0.8731\n",
      "Epoch 29/200\n",
      "1/1 [==============================] - 0s 290ms/step - loss: 0.5409 - accuracy: 0.8641 - val_loss: 0.5122 - val_accuracy: 0.8728\n",
      "Epoch 30/200\n",
      "1/1 [==============================] - 0s 312ms/step - loss: 0.5340 - accuracy: 0.8649 - val_loss: 0.5078 - val_accuracy: 0.8729\n",
      "Epoch 31/200\n",
      "1/1 [==============================] - 0s 306ms/step - loss: 0.5291 - accuracy: 0.8643 - val_loss: 0.5033 - val_accuracy: 0.8721\n",
      "Epoch 32/200\n",
      "1/1 [==============================] - 0s 285ms/step - loss: 0.5248 - accuracy: 0.8638 - val_loss: 0.5040 - val_accuracy: 0.8690\n",
      "Epoch 33/200\n",
      "1/1 [==============================] - 0s 308ms/step - loss: 0.5248 - accuracy: 0.8610 - val_loss: 0.5020 - val_accuracy: 0.8675\n",
      "Epoch 34/200\n",
      "1/1 [==============================] - 0s 306ms/step - loss: 0.5232 - accuracy: 0.8597 - val_loss: 0.5106 - val_accuracy: 0.8603\n",
      "Epoch 35/200\n",
      "1/1 [==============================] - 0s 296ms/step - loss: 0.5308 - accuracy: 0.8541 - val_loss: 0.5073 - val_accuracy: 0.8588\n",
      "Epoch 36/200\n",
      "1/1 [==============================] - 0s 328ms/step - loss: 0.5281 - accuracy: 0.8523 - val_loss: 0.5228 - val_accuracy: 0.8546\n",
      "Epoch 37/200\n",
      "1/1 [==============================] - 0s 284ms/step - loss: 0.5421 - accuracy: 0.8451 - val_loss: 0.5087 - val_accuracy: 0.8549\n",
      "Epoch 38/200\n",
      "1/1 [==============================] - 0s 316ms/step - loss: 0.5290 - accuracy: 0.8480 - val_loss: 0.5208 - val_accuracy: 0.8533\n",
      "Epoch 39/200\n",
      "1/1 [==============================] - 0s 312ms/step - loss: 0.5397 - accuracy: 0.8436 - val_loss: 0.4953 - val_accuracy: 0.8600\n",
      "Epoch 40/200\n",
      "1/1 [==============================] - 0s 295ms/step - loss: 0.5152 - accuracy: 0.8523 - val_loss: 0.4966 - val_accuracy: 0.8597\n",
      "Epoch 41/200\n",
      "1/1 [==============================] - 0s 289ms/step - loss: 0.5158 - accuracy: 0.8525 - val_loss: 0.4728 - val_accuracy: 0.8707\n",
      "Epoch 42/200\n",
      "1/1 [==============================] - 0s 297ms/step - loss: 0.4925 - accuracy: 0.8620 - val_loss: 0.4673 - val_accuracy: 0.8719\n",
      "Epoch 43/200\n",
      "1/1 [==============================] - 0s 282ms/step - loss: 0.4870 - accuracy: 0.8637 - val_loss: 0.4511 - val_accuracy: 0.8789\n",
      "Epoch 44/200\n",
      "1/1 [==============================] - 0s 378ms/step - loss: 0.4706 - accuracy: 0.8713 - val_loss: 0.4440 - val_accuracy: 0.8824\n",
      "Epoch 45/200\n",
      "1/1 [==============================] - 0s 297ms/step - loss: 0.4640 - accuracy: 0.8726 - val_loss: 0.4340 - val_accuracy: 0.8833\n",
      "Epoch 46/200\n",
      "1/1 [==============================] - 0s 305ms/step - loss: 0.4535 - accuracy: 0.8784 - val_loss: 0.4277 - val_accuracy: 0.8872\n",
      "Epoch 47/200\n",
      "1/1 [==============================] - 0s 254ms/step - loss: 0.4476 - accuracy: 0.8783 - val_loss: 0.4214 - val_accuracy: 0.8881\n",
      "Epoch 48/200\n",
      "1/1 [==============================] - 0s 311ms/step - loss: 0.4408 - accuracy: 0.8823 - val_loss: 0.4163 - val_accuracy: 0.8906\n",
      "Epoch 49/200\n",
      "1/1 [==============================] - 0s 273ms/step - loss: 0.4361 - accuracy: 0.8827 - val_loss: 0.4119 - val_accuracy: 0.8915\n",
      "Epoch 50/200\n",
      "1/1 [==============================] - 0s 301ms/step - loss: 0.4313 - accuracy: 0.8851 - val_loss: 0.4077 - val_accuracy: 0.8932\n",
      "Epoch 51/200\n",
      "1/1 [==============================] - 0s 286ms/step - loss: 0.4274 - accuracy: 0.8852 - val_loss: 0.4044 - val_accuracy: 0.8939\n",
      "Epoch 52/200\n",
      "1/1 [==============================] - 0s 301ms/step - loss: 0.4237 - accuracy: 0.8877 - val_loss: 0.4009 - val_accuracy: 0.8953\n",
      "Epoch 53/200\n",
      "1/1 [==============================] - 0s 301ms/step - loss: 0.4204 - accuracy: 0.8872 - val_loss: 0.3981 - val_accuracy: 0.8950\n",
      "Epoch 54/200\n",
      "1/1 [==============================] - 0s 274ms/step - loss: 0.4172 - accuracy: 0.8888 - val_loss: 0.3951 - val_accuracy: 0.8969\n",
      "Epoch 55/200\n",
      "1/1 [==============================] - 0s 304ms/step - loss: 0.4143 - accuracy: 0.8888 - val_loss: 0.3925 - val_accuracy: 0.8965\n",
      "Epoch 56/200\n",
      "1/1 [==============================] - 0s 264ms/step - loss: 0.4116 - accuracy: 0.8901 - val_loss: 0.3898 - val_accuracy: 0.8976\n",
      "Epoch 57/200\n",
      "1/1 [==============================] - 0s 312ms/step - loss: 0.4089 - accuracy: 0.8904 - val_loss: 0.3875 - val_accuracy: 0.8973\n",
      "Epoch 58/200\n",
      "1/1 [==============================] - 0s 269ms/step - loss: 0.4064 - accuracy: 0.8911 - val_loss: 0.3851 - val_accuracy: 0.8983\n"
     ]
    },
    {
     "name": "stdout",
     "output_type": "stream",
     "text": [
      "Epoch 59/200\n",
      "1/1 [==============================] - 0s 293ms/step - loss: 0.4040 - accuracy: 0.8917 - val_loss: 0.3829 - val_accuracy: 0.8986\n",
      "Epoch 60/200\n",
      "1/1 [==============================] - 0s 285ms/step - loss: 0.4016 - accuracy: 0.8924 - val_loss: 0.3806 - val_accuracy: 0.8990\n",
      "Epoch 61/200\n",
      "1/1 [==============================] - 0s 339ms/step - loss: 0.3994 - accuracy: 0.8926 - val_loss: 0.3786 - val_accuracy: 0.8990\n",
      "Epoch 62/200\n",
      "1/1 [==============================] - 0s 265ms/step - loss: 0.3972 - accuracy: 0.8932 - val_loss: 0.3765 - val_accuracy: 0.8995\n",
      "Epoch 63/200\n",
      "1/1 [==============================] - 0s 336ms/step - loss: 0.3950 - accuracy: 0.8935 - val_loss: 0.3745 - val_accuracy: 0.8997\n",
      "Epoch 64/200\n",
      "1/1 [==============================] - 0s 253ms/step - loss: 0.3930 - accuracy: 0.8942 - val_loss: 0.3726 - val_accuracy: 0.9002\n",
      "Epoch 65/200\n",
      "1/1 [==============================] - 0s 325ms/step - loss: 0.3909 - accuracy: 0.8946 - val_loss: 0.3707 - val_accuracy: 0.9004\n",
      "Epoch 66/200\n",
      "1/1 [==============================] - 0s 307ms/step - loss: 0.3890 - accuracy: 0.8951 - val_loss: 0.3689 - val_accuracy: 0.9009\n",
      "Epoch 67/200\n",
      "1/1 [==============================] - 0s 274ms/step - loss: 0.3871 - accuracy: 0.8955 - val_loss: 0.3671 - val_accuracy: 0.9013\n",
      "Epoch 68/200\n",
      "1/1 [==============================] - 0s 297ms/step - loss: 0.3852 - accuracy: 0.8958 - val_loss: 0.3654 - val_accuracy: 0.9016\n",
      "Epoch 69/200\n",
      "1/1 [==============================] - 0s 301ms/step - loss: 0.3834 - accuracy: 0.8962 - val_loss: 0.3637 - val_accuracy: 0.9019\n",
      "Epoch 70/200\n",
      "1/1 [==============================] - 0s 273ms/step - loss: 0.3816 - accuracy: 0.8967 - val_loss: 0.3621 - val_accuracy: 0.9021\n",
      "Epoch 71/200\n",
      "1/1 [==============================] - 0s 322ms/step - loss: 0.3799 - accuracy: 0.8971 - val_loss: 0.3605 - val_accuracy: 0.9024\n",
      "Epoch 72/200\n",
      "1/1 [==============================] - 0s 282ms/step - loss: 0.3782 - accuracy: 0.8974 - val_loss: 0.3589 - val_accuracy: 0.9027\n",
      "Epoch 73/200\n",
      "1/1 [==============================] - 0s 328ms/step - loss: 0.3766 - accuracy: 0.8976 - val_loss: 0.3574 - val_accuracy: 0.9032\n",
      "Epoch 74/200\n",
      "1/1 [==============================] - 0s 263ms/step - loss: 0.3749 - accuracy: 0.8980 - val_loss: 0.3559 - val_accuracy: 0.9038\n",
      "Epoch 75/200\n",
      "1/1 [==============================] - 0s 313ms/step - loss: 0.3734 - accuracy: 0.8982 - val_loss: 0.3544 - val_accuracy: 0.9045\n",
      "Epoch 76/200\n",
      "1/1 [==============================] - 0s 339ms/step - loss: 0.3718 - accuracy: 0.8984 - val_loss: 0.3530 - val_accuracy: 0.9047\n",
      "Epoch 77/200\n",
      "1/1 [==============================] - 0s 295ms/step - loss: 0.3703 - accuracy: 0.8988 - val_loss: 0.3516 - val_accuracy: 0.9056\n",
      "Epoch 78/200\n",
      "1/1 [==============================] - 0s 346ms/step - loss: 0.3688 - accuracy: 0.8991 - val_loss: 0.3502 - val_accuracy: 0.9058\n",
      "Epoch 79/200\n",
      "1/1 [==============================] - 0s 252ms/step - loss: 0.3674 - accuracy: 0.8994 - val_loss: 0.3489 - val_accuracy: 0.9063\n",
      "Epoch 80/200\n",
      "1/1 [==============================] - 0s 335ms/step - loss: 0.3659 - accuracy: 0.8998 - val_loss: 0.3476 - val_accuracy: 0.9064\n",
      "Epoch 81/200\n",
      "1/1 [==============================] - 0s 269ms/step - loss: 0.3645 - accuracy: 0.9000 - val_loss: 0.3463 - val_accuracy: 0.9067\n",
      "Epoch 82/200\n",
      "1/1 [==============================] - 0s 333ms/step - loss: 0.3632 - accuracy: 0.9003 - val_loss: 0.3450 - val_accuracy: 0.9066\n",
      "Epoch 83/200\n",
      "1/1 [==============================] - 0s 266ms/step - loss: 0.3618 - accuracy: 0.9007 - val_loss: 0.3438 - val_accuracy: 0.9070\n",
      "Epoch 84/200\n",
      "1/1 [==============================] - 0s 312ms/step - loss: 0.3605 - accuracy: 0.9010 - val_loss: 0.3426 - val_accuracy: 0.9073\n",
      "Epoch 85/200\n",
      "1/1 [==============================] - 0s 287ms/step - loss: 0.3592 - accuracy: 0.9013 - val_loss: 0.3414 - val_accuracy: 0.9073\n",
      "Epoch 86/200\n",
      "1/1 [==============================] - 0s 307ms/step - loss: 0.3579 - accuracy: 0.9016 - val_loss: 0.3402 - val_accuracy: 0.9074\n",
      "Epoch 87/200\n",
      "1/1 [==============================] - 0s 320ms/step - loss: 0.3567 - accuracy: 0.9018 - val_loss: 0.3391 - val_accuracy: 0.9078\n",
      "Epoch 88/200\n",
      "1/1 [==============================] - 0s 266ms/step - loss: 0.3555 - accuracy: 0.9021 - val_loss: 0.3380 - val_accuracy: 0.9080\n",
      "Epoch 89/200\n",
      "1/1 [==============================] - 0s 293ms/step - loss: 0.3543 - accuracy: 0.9023 - val_loss: 0.3368 - val_accuracy: 0.9084\n",
      "Epoch 90/200\n",
      "1/1 [==============================] - 0s 304ms/step - loss: 0.3531 - accuracy: 0.9026 - val_loss: 0.3358 - val_accuracy: 0.9086\n",
      "Epoch 91/200\n",
      "1/1 [==============================] - 0s 267ms/step - loss: 0.3519 - accuracy: 0.9028 - val_loss: 0.3347 - val_accuracy: 0.9088\n",
      "Epoch 92/200\n",
      "1/1 [==============================] - 0s 276ms/step - loss: 0.3508 - accuracy: 0.9031 - val_loss: 0.3336 - val_accuracy: 0.9088\n",
      "Epoch 93/200\n",
      "1/1 [==============================] - 0s 268ms/step - loss: 0.3496 - accuracy: 0.9034 - val_loss: 0.3326 - val_accuracy: 0.9089\n",
      "Epoch 94/200\n",
      "1/1 [==============================] - 0s 280ms/step - loss: 0.3485 - accuracy: 0.9037 - val_loss: 0.3316 - val_accuracy: 0.9092\n",
      "Epoch 95/200\n",
      "1/1 [==============================] - 0s 276ms/step - loss: 0.3474 - accuracy: 0.9038 - val_loss: 0.3306 - val_accuracy: 0.9096\n",
      "Epoch 96/200\n",
      "1/1 [==============================] - 0s 278ms/step - loss: 0.3463 - accuracy: 0.9040 - val_loss: 0.3296 - val_accuracy: 0.9101\n",
      "Epoch 97/200\n",
      "1/1 [==============================] - 0s 271ms/step - loss: 0.3453 - accuracy: 0.9045 - val_loss: 0.3286 - val_accuracy: 0.9107\n",
      "Epoch 98/200\n",
      "1/1 [==============================] - 0s 306ms/step - loss: 0.3442 - accuracy: 0.9047 - val_loss: 0.3277 - val_accuracy: 0.9112\n",
      "Epoch 99/200\n",
      "1/1 [==============================] - 0s 275ms/step - loss: 0.3432 - accuracy: 0.9050 - val_loss: 0.3267 - val_accuracy: 0.9113\n",
      "Epoch 100/200\n",
      "1/1 [==============================] - 0s 272ms/step - loss: 0.3422 - accuracy: 0.9054 - val_loss: 0.3258 - val_accuracy: 0.9113\n",
      "Epoch 101/200\n",
      "1/1 [==============================] - 0s 305ms/step - loss: 0.3412 - accuracy: 0.9057 - val_loss: 0.3249 - val_accuracy: 0.9117\n",
      "Epoch 102/200\n",
      "1/1 [==============================] - 0s 266ms/step - loss: 0.3402 - accuracy: 0.9059 - val_loss: 0.3240 - val_accuracy: 0.9119\n",
      "Epoch 103/200\n",
      "1/1 [==============================] - 0s 313ms/step - loss: 0.3392 - accuracy: 0.9061 - val_loss: 0.3231 - val_accuracy: 0.9120\n",
      "Epoch 104/200\n",
      "1/1 [==============================] - 0s 262ms/step - loss: 0.3383 - accuracy: 0.9064 - val_loss: 0.3222 - val_accuracy: 0.9122\n",
      "Epoch 105/200\n",
      "1/1 [==============================] - 0s 329ms/step - loss: 0.3373 - accuracy: 0.9067 - val_loss: 0.3213 - val_accuracy: 0.9123\n",
      "Epoch 106/200\n",
      "1/1 [==============================] - 0s 250ms/step - loss: 0.3364 - accuracy: 0.9069 - val_loss: 0.3205 - val_accuracy: 0.9124\n",
      "Epoch 107/200\n",
      "1/1 [==============================] - 0s 328ms/step - loss: 0.3354 - accuracy: 0.9071 - val_loss: 0.3196 - val_accuracy: 0.9130\n",
      "Epoch 108/200\n",
      "1/1 [==============================] - 0s 234ms/step - loss: 0.3345 - accuracy: 0.9074 - val_loss: 0.3188 - val_accuracy: 0.9133\n",
      "Epoch 109/200\n",
      "1/1 [==============================] - 0s 316ms/step - loss: 0.3336 - accuracy: 0.9074 - val_loss: 0.3180 - val_accuracy: 0.9135\n",
      "Epoch 110/200\n",
      "1/1 [==============================] - 0s 280ms/step - loss: 0.3327 - accuracy: 0.9076 - val_loss: 0.3172 - val_accuracy: 0.9136\n",
      "Epoch 111/200\n",
      "1/1 [==============================] - 0s 294ms/step - loss: 0.3319 - accuracy: 0.9079 - val_loss: 0.3164 - val_accuracy: 0.9138\n",
      "Epoch 112/200\n",
      "1/1 [==============================] - 0s 309ms/step - loss: 0.3310 - accuracy: 0.9080 - val_loss: 0.3156 - val_accuracy: 0.9140\n",
      "Epoch 113/200\n",
      "1/1 [==============================] - 0s 266ms/step - loss: 0.3302 - accuracy: 0.9082 - val_loss: 0.3148 - val_accuracy: 0.9142\n",
      "Epoch 114/200\n",
      "1/1 [==============================] - 0s 300ms/step - loss: 0.3293 - accuracy: 0.9085 - val_loss: 0.3141 - val_accuracy: 0.9145\n",
      "Epoch 115/200\n",
      "1/1 [==============================] - 0s 283ms/step - loss: 0.3285 - accuracy: 0.9087 - val_loss: 0.3133 - val_accuracy: 0.9146\n",
      "Epoch 116/200\n"
     ]
    },
    {
     "name": "stdout",
     "output_type": "stream",
     "text": [
      "1/1 [==============================] - 0s 282ms/step - loss: 0.3276 - accuracy: 0.9089 - val_loss: 0.3125 - val_accuracy: 0.9153\n",
      "Epoch 117/200\n",
      "1/1 [==============================] - 0s 306ms/step - loss: 0.3268 - accuracy: 0.9092 - val_loss: 0.3118 - val_accuracy: 0.9158\n",
      "Epoch 118/200\n",
      "1/1 [==============================] - 0s 260ms/step - loss: 0.3260 - accuracy: 0.9095 - val_loss: 0.3111 - val_accuracy: 0.9161\n",
      "Epoch 119/200\n",
      "1/1 [==============================] - 0s 332ms/step - loss: 0.3252 - accuracy: 0.9097 - val_loss: 0.3103 - val_accuracy: 0.9166\n",
      "Epoch 120/200\n",
      "1/1 [==============================] - 0s 286ms/step - loss: 0.3244 - accuracy: 0.9099 - val_loss: 0.3096 - val_accuracy: 0.9167\n",
      "Epoch 121/200\n",
      "1/1 [==============================] - 0s 348ms/step - loss: 0.3237 - accuracy: 0.9101 - val_loss: 0.3089 - val_accuracy: 0.9170\n",
      "Epoch 122/200\n",
      "1/1 [==============================] - 0s 267ms/step - loss: 0.3229 - accuracy: 0.9103 - val_loss: 0.3082 - val_accuracy: 0.9171\n",
      "Epoch 123/200\n",
      "1/1 [==============================] - 0s 354ms/step - loss: 0.3221 - accuracy: 0.9104 - val_loss: 0.3075 - val_accuracy: 0.9172\n",
      "Epoch 124/200\n",
      "1/1 [==============================] - 0s 260ms/step - loss: 0.3214 - accuracy: 0.9106 - val_loss: 0.3068 - val_accuracy: 0.9172\n",
      "Epoch 125/200\n",
      "1/1 [==============================] - 0s 345ms/step - loss: 0.3206 - accuracy: 0.9108 - val_loss: 0.3062 - val_accuracy: 0.9172\n",
      "Epoch 126/200\n",
      "1/1 [==============================] - 0s 258ms/step - loss: 0.3199 - accuracy: 0.9109 - val_loss: 0.3055 - val_accuracy: 0.9176\n",
      "Epoch 127/200\n",
      "1/1 [==============================] - 0s 331ms/step - loss: 0.3191 - accuracy: 0.9110 - val_loss: 0.3048 - val_accuracy: 0.9179\n",
      "Epoch 128/200\n",
      "1/1 [==============================] - 0s 282ms/step - loss: 0.3184 - accuracy: 0.9112 - val_loss: 0.3042 - val_accuracy: 0.9179\n",
      "Epoch 129/200\n",
      "1/1 [==============================] - 0s 300ms/step - loss: 0.3177 - accuracy: 0.9114 - val_loss: 0.3035 - val_accuracy: 0.9180\n",
      "Epoch 130/200\n",
      "1/1 [==============================] - 0s 315ms/step - loss: 0.3170 - accuracy: 0.9117 - val_loss: 0.3029 - val_accuracy: 0.9183\n",
      "Epoch 131/200\n",
      "1/1 [==============================] - 0s 345ms/step - loss: 0.3163 - accuracy: 0.9119 - val_loss: 0.3022 - val_accuracy: 0.9185\n",
      "Epoch 132/200\n",
      "1/1 [==============================] - 0s 336ms/step - loss: 0.3156 - accuracy: 0.9121 - val_loss: 0.3016 - val_accuracy: 0.9188\n",
      "Epoch 133/200\n",
      "1/1 [==============================] - 0s 302ms/step - loss: 0.3149 - accuracy: 0.9123 - val_loss: 0.3010 - val_accuracy: 0.9190\n",
      "Epoch 134/200\n",
      "1/1 [==============================] - 0s 297ms/step - loss: 0.3142 - accuracy: 0.9125 - val_loss: 0.3004 - val_accuracy: 0.9193\n",
      "Epoch 135/200\n",
      "1/1 [==============================] - 0s 245ms/step - loss: 0.3135 - accuracy: 0.9127 - val_loss: 0.2998 - val_accuracy: 0.9196\n",
      "Epoch 136/200\n",
      "1/1 [==============================] - 0s 427ms/step - loss: 0.3129 - accuracy: 0.9129 - val_loss: 0.2991 - val_accuracy: 0.9196\n",
      "Epoch 137/200\n",
      "1/1 [==============================] - 0s 333ms/step - loss: 0.3122 - accuracy: 0.9131 - val_loss: 0.2985 - val_accuracy: 0.9199\n",
      "Epoch 138/200\n",
      "1/1 [==============================] - 0s 335ms/step - loss: 0.3115 - accuracy: 0.9132 - val_loss: 0.2979 - val_accuracy: 0.9199\n",
      "Epoch 139/200\n",
      "1/1 [==============================] - 0s 443ms/step - loss: 0.3109 - accuracy: 0.9133 - val_loss: 0.2974 - val_accuracy: 0.9199\n",
      "Epoch 140/200\n",
      "1/1 [==============================] - 0s 478ms/step - loss: 0.3102 - accuracy: 0.9135 - val_loss: 0.2968 - val_accuracy: 0.9202\n",
      "Epoch 141/200\n",
      "1/1 [==============================] - 0s 339ms/step - loss: 0.3096 - accuracy: 0.9137 - val_loss: 0.2962 - val_accuracy: 0.9204\n",
      "Epoch 142/200\n",
      "1/1 [==============================] - 0s 360ms/step - loss: 0.3089 - accuracy: 0.9140 - val_loss: 0.2956 - val_accuracy: 0.9208\n",
      "Epoch 143/200\n",
      "1/1 [==============================] - 0s 320ms/step - loss: 0.3083 - accuracy: 0.9140 - val_loss: 0.2951 - val_accuracy: 0.9211\n",
      "Epoch 144/200\n",
      "1/1 [==============================] - 0s 298ms/step - loss: 0.3077 - accuracy: 0.9141 - val_loss: 0.2945 - val_accuracy: 0.9213\n",
      "Epoch 145/200\n",
      "1/1 [==============================] - 0s 314ms/step - loss: 0.3071 - accuracy: 0.9143 - val_loss: 0.2939 - val_accuracy: 0.9213\n",
      "Epoch 146/200\n",
      "1/1 [==============================] - 0s 277ms/step - loss: 0.3064 - accuracy: 0.9144 - val_loss: 0.2934 - val_accuracy: 0.9214\n",
      "Epoch 147/200\n",
      "1/1 [==============================] - 0s 330ms/step - loss: 0.3058 - accuracy: 0.9145 - val_loss: 0.2928 - val_accuracy: 0.9215\n",
      "Epoch 148/200\n",
      "1/1 [==============================] - 0s 278ms/step - loss: 0.3052 - accuracy: 0.9148 - val_loss: 0.2923 - val_accuracy: 0.9215\n",
      "Epoch 149/200\n",
      "1/1 [==============================] - 0s 318ms/step - loss: 0.3046 - accuracy: 0.9149 - val_loss: 0.2917 - val_accuracy: 0.9217\n",
      "Epoch 150/200\n",
      "1/1 [==============================] - 0s 303ms/step - loss: 0.3040 - accuracy: 0.9151 - val_loss: 0.2912 - val_accuracy: 0.9218\n",
      "Epoch 151/200\n",
      "1/1 [==============================] - 0s 309ms/step - loss: 0.3034 - accuracy: 0.9153 - val_loss: 0.2907 - val_accuracy: 0.9219\n",
      "Epoch 152/200\n",
      "1/1 [==============================] - 0s 303ms/step - loss: 0.3028 - accuracy: 0.9155 - val_loss: 0.2901 - val_accuracy: 0.9217\n",
      "Epoch 153/200\n",
      "1/1 [==============================] - 0s 314ms/step - loss: 0.3022 - accuracy: 0.9157 - val_loss: 0.2896 - val_accuracy: 0.9220\n",
      "Epoch 154/200\n",
      "1/1 [==============================] - 0s 303ms/step - loss: 0.3017 - accuracy: 0.9159 - val_loss: 0.2891 - val_accuracy: 0.9220\n",
      "Epoch 155/200\n",
      "1/1 [==============================] - 0s 291ms/step - loss: 0.3011 - accuracy: 0.9161 - val_loss: 0.2886 - val_accuracy: 0.9221\n",
      "Epoch 156/200\n",
      "1/1 [==============================] - 0s 287ms/step - loss: 0.3005 - accuracy: 0.9162 - val_loss: 0.2880 - val_accuracy: 0.9221\n",
      "Epoch 157/200\n",
      "1/1 [==============================] - 0s 289ms/step - loss: 0.2999 - accuracy: 0.9164 - val_loss: 0.2875 - val_accuracy: 0.9226\n",
      "Epoch 158/200\n",
      "1/1 [==============================] - 0s 310ms/step - loss: 0.2994 - accuracy: 0.9165 - val_loss: 0.2870 - val_accuracy: 0.9229\n",
      "Epoch 159/200\n",
      "1/1 [==============================] - 0s 251ms/step - loss: 0.2988 - accuracy: 0.9166 - val_loss: 0.2865 - val_accuracy: 0.9229\n",
      "Epoch 160/200\n",
      "1/1 [==============================] - 0s 322ms/step - loss: 0.2982 - accuracy: 0.9169 - val_loss: 0.2860 - val_accuracy: 0.9230\n",
      "Epoch 161/200\n",
      "1/1 [==============================] - 0s 273ms/step - loss: 0.2977 - accuracy: 0.9170 - val_loss: 0.2855 - val_accuracy: 0.9231\n",
      "Epoch 162/200\n",
      "1/1 [==============================] - 0s 316ms/step - loss: 0.2971 - accuracy: 0.9171 - val_loss: 0.2850 - val_accuracy: 0.9234\n",
      "Epoch 163/200\n",
      "1/1 [==============================] - 0s 230ms/step - loss: 0.2966 - accuracy: 0.9172 - val_loss: 0.2845 - val_accuracy: 0.9234\n",
      "Epoch 164/200\n",
      "1/1 [==============================] - 0s 346ms/step - loss: 0.2960 - accuracy: 0.9174 - val_loss: 0.2841 - val_accuracy: 0.9234\n",
      "Epoch 165/200\n",
      "1/1 [==============================] - 0s 335ms/step - loss: 0.2955 - accuracy: 0.9176 - val_loss: 0.2836 - val_accuracy: 0.9238\n",
      "Epoch 166/200\n",
      "1/1 [==============================] - 0s 307ms/step - loss: 0.2950 - accuracy: 0.9176 - val_loss: 0.2831 - val_accuracy: 0.9240\n",
      "Epoch 167/200\n",
      "1/1 [==============================] - 0s 379ms/step - loss: 0.2944 - accuracy: 0.9178 - val_loss: 0.2826 - val_accuracy: 0.9243\n",
      "Epoch 168/200\n",
      "1/1 [==============================] - 0s 337ms/step - loss: 0.2939 - accuracy: 0.9180 - val_loss: 0.2821 - val_accuracy: 0.9242\n",
      "Epoch 169/200\n",
      "1/1 [==============================] - 0s 336ms/step - loss: 0.2934 - accuracy: 0.9181 - val_loss: 0.2817 - val_accuracy: 0.9244\n",
      "Epoch 170/200\n",
      "1/1 [==============================] - 0s 343ms/step - loss: 0.2929 - accuracy: 0.9182 - val_loss: 0.2812 - val_accuracy: 0.9244\n",
      "Epoch 171/200\n",
      "1/1 [==============================] - 0s 337ms/step - loss: 0.2923 - accuracy: 0.9183 - val_loss: 0.2807 - val_accuracy: 0.9243\n",
      "Epoch 172/200\n",
      "1/1 [==============================] - 0s 322ms/step - loss: 0.2918 - accuracy: 0.9185 - val_loss: 0.2803 - val_accuracy: 0.9243\n",
      "Epoch 173/200\n"
     ]
    },
    {
     "name": "stdout",
     "output_type": "stream",
     "text": [
      "1/1 [==============================] - 0s 258ms/step - loss: 0.2913 - accuracy: 0.9187 - val_loss: 0.2798 - val_accuracy: 0.9244\n",
      "Epoch 174/200\n",
      "1/1 [==============================] - 0s 335ms/step - loss: 0.2908 - accuracy: 0.9188 - val_loss: 0.2794 - val_accuracy: 0.9244\n",
      "Epoch 175/200\n",
      "1/1 [==============================] - 0s 333ms/step - loss: 0.2903 - accuracy: 0.9190 - val_loss: 0.2789 - val_accuracy: 0.9244\n",
      "Epoch 176/200\n",
      "1/1 [==============================] - 0s 303ms/step - loss: 0.2898 - accuracy: 0.9190 - val_loss: 0.2785 - val_accuracy: 0.9245\n",
      "Epoch 177/200\n",
      "1/1 [==============================] - 0s 329ms/step - loss: 0.2893 - accuracy: 0.9192 - val_loss: 0.2780 - val_accuracy: 0.9248\n",
      "Epoch 178/200\n",
      "1/1 [==============================] - 0s 290ms/step - loss: 0.2888 - accuracy: 0.9193 - val_loss: 0.2776 - val_accuracy: 0.9248\n",
      "Epoch 179/200\n",
      "1/1 [==============================] - 0s 307ms/step - loss: 0.2883 - accuracy: 0.9194 - val_loss: 0.2771 - val_accuracy: 0.9248\n",
      "Epoch 180/200\n",
      "1/1 [==============================] - 0s 280ms/step - loss: 0.2878 - accuracy: 0.9196 - val_loss: 0.2767 - val_accuracy: 0.9248\n",
      "Epoch 181/200\n",
      "1/1 [==============================] - 0s 289ms/step - loss: 0.2873 - accuracy: 0.9197 - val_loss: 0.2762 - val_accuracy: 0.9249\n",
      "Epoch 182/200\n",
      "1/1 [==============================] - 0s 271ms/step - loss: 0.2868 - accuracy: 0.9197 - val_loss: 0.2758 - val_accuracy: 0.9250\n",
      "Epoch 183/200\n",
      "1/1 [==============================] - 0s 305ms/step - loss: 0.2864 - accuracy: 0.9199 - val_loss: 0.2754 - val_accuracy: 0.9251\n",
      "Epoch 184/200\n",
      "1/1 [==============================] - 0s 268ms/step - loss: 0.2859 - accuracy: 0.9201 - val_loss: 0.2750 - val_accuracy: 0.9251\n",
      "Epoch 185/200\n",
      "1/1 [==============================] - 0s 305ms/step - loss: 0.2854 - accuracy: 0.9202 - val_loss: 0.2745 - val_accuracy: 0.9251\n",
      "Epoch 186/200\n",
      "1/1 [==============================] - 0s 265ms/step - loss: 0.2849 - accuracy: 0.9204 - val_loss: 0.2741 - val_accuracy: 0.9252\n",
      "Epoch 187/200\n",
      "1/1 [==============================] - 0s 305ms/step - loss: 0.2844 - accuracy: 0.9205 - val_loss: 0.2737 - val_accuracy: 0.9253\n",
      "Epoch 188/200\n",
      "1/1 [==============================] - 0s 304ms/step - loss: 0.2840 - accuracy: 0.9207 - val_loss: 0.2733 - val_accuracy: 0.9253\n",
      "Epoch 189/200\n",
      "1/1 [==============================] - 0s 276ms/step - loss: 0.2835 - accuracy: 0.9207 - val_loss: 0.2728 - val_accuracy: 0.9253\n",
      "Epoch 190/200\n",
      "1/1 [==============================] - 0s 281ms/step - loss: 0.2830 - accuracy: 0.9208 - val_loss: 0.2724 - val_accuracy: 0.9253\n",
      "Epoch 191/200\n",
      "1/1 [==============================] - 0s 320ms/step - loss: 0.2826 - accuracy: 0.9211 - val_loss: 0.2720 - val_accuracy: 0.9255\n",
      "Epoch 192/200\n",
      "1/1 [==============================] - 0s 329ms/step - loss: 0.2821 - accuracy: 0.9212 - val_loss: 0.2716 - val_accuracy: 0.9258\n",
      "Epoch 193/200\n",
      "1/1 [==============================] - 0s 303ms/step - loss: 0.2817 - accuracy: 0.9213 - val_loss: 0.2712 - val_accuracy: 0.9259\n",
      "Epoch 194/200\n",
      "1/1 [==============================] - 0s 298ms/step - loss: 0.2812 - accuracy: 0.9214 - val_loss: 0.2708 - val_accuracy: 0.9257\n",
      "Epoch 195/200\n",
      "1/1 [==============================] - 0s 301ms/step - loss: 0.2808 - accuracy: 0.9215 - val_loss: 0.2704 - val_accuracy: 0.9258\n",
      "Epoch 196/200\n",
      "1/1 [==============================] - 0s 321ms/step - loss: 0.2803 - accuracy: 0.9215 - val_loss: 0.2700 - val_accuracy: 0.9259\n",
      "Epoch 197/200\n",
      "1/1 [==============================] - 0s 284ms/step - loss: 0.2799 - accuracy: 0.9217 - val_loss: 0.2696 - val_accuracy: 0.9258\n",
      "Epoch 198/200\n",
      "1/1 [==============================] - 0s 301ms/step - loss: 0.2794 - accuracy: 0.9218 - val_loss: 0.2692 - val_accuracy: 0.9259\n",
      "Epoch 199/200\n",
      "1/1 [==============================] - 0s 265ms/step - loss: 0.2790 - accuracy: 0.9221 - val_loss: 0.2688 - val_accuracy: 0.9260\n",
      "Epoch 200/200\n",
      "1/1 [==============================] - 0s 310ms/step - loss: 0.2785 - accuracy: 0.9222 - val_loss: 0.2684 - val_accuracy: 0.9260\n"
     ]
    }
   ],
   "source": [
    "history = model.fit(x=x_train,\n",
    "                    y=y_train,\n",
    "                    epochs=200,\n",
    "                    batch_size=x_train.shape[0],\n",
    "                    validation_data=(x_test, y_test))"
   ]
  },
  {
   "cell_type": "markdown",
   "metadata": {},
   "source": [
    "Let us examine the training curves to see how we are doing."
   ]
  },
  {
   "cell_type": "code",
   "execution_count": 18,
   "metadata": {},
   "outputs": [],
   "source": [
    "import pandas as pd"
   ]
  },
  {
   "cell_type": "code",
   "execution_count": 19,
   "metadata": {},
   "outputs": [],
   "source": [
    "history = pd.DataFrame(history.history)"
   ]
  },
  {
   "cell_type": "code",
   "execution_count": 20,
   "metadata": {},
   "outputs": [
    {
     "data": {
      "text/html": [
       "<div>\n",
       "<style scoped>\n",
       "    .dataframe tbody tr th:only-of-type {\n",
       "        vertical-align: middle;\n",
       "    }\n",
       "\n",
       "    .dataframe tbody tr th {\n",
       "        vertical-align: top;\n",
       "    }\n",
       "\n",
       "    .dataframe thead th {\n",
       "        text-align: right;\n",
       "    }\n",
       "</style>\n",
       "<table border=\"1\" class=\"dataframe\">\n",
       "  <thead>\n",
       "    <tr style=\"text-align: right;\">\n",
       "      <th></th>\n",
       "      <th>loss</th>\n",
       "      <th>accuracy</th>\n",
       "      <th>val_loss</th>\n",
       "      <th>val_accuracy</th>\n",
       "    </tr>\n",
       "  </thead>\n",
       "  <tbody>\n",
       "    <tr>\n",
       "      <th>0</th>\n",
       "      <td>2.343760</td>\n",
       "      <td>0.125283</td>\n",
       "      <td>2.092929</td>\n",
       "      <td>0.3109</td>\n",
       "    </tr>\n",
       "    <tr>\n",
       "      <th>1</th>\n",
       "      <td>2.093353</td>\n",
       "      <td>0.314433</td>\n",
       "      <td>1.911020</td>\n",
       "      <td>0.4870</td>\n",
       "    </tr>\n",
       "    <tr>\n",
       "      <th>2</th>\n",
       "      <td>1.915978</td>\n",
       "      <td>0.481033</td>\n",
       "      <td>1.738136</td>\n",
       "      <td>0.6106</td>\n",
       "    </tr>\n",
       "    <tr>\n",
       "      <th>3</th>\n",
       "      <td>1.746391</td>\n",
       "      <td>0.603317</td>\n",
       "      <td>1.575509</td>\n",
       "      <td>0.6787</td>\n",
       "    </tr>\n",
       "    <tr>\n",
       "      <th>4</th>\n",
       "      <td>1.586657</td>\n",
       "      <td>0.671717</td>\n",
       "      <td>1.427668</td>\n",
       "      <td>0.7206</td>\n",
       "    </tr>\n",
       "    <tr>\n",
       "      <th>...</th>\n",
       "      <td>...</td>\n",
       "      <td>...</td>\n",
       "      <td>...</td>\n",
       "      <td>...</td>\n",
       "    </tr>\n",
       "    <tr>\n",
       "      <th>195</th>\n",
       "      <td>0.280312</td>\n",
       "      <td>0.921500</td>\n",
       "      <td>0.270001</td>\n",
       "      <td>0.9259</td>\n",
       "    </tr>\n",
       "    <tr>\n",
       "      <th>196</th>\n",
       "      <td>0.279865</td>\n",
       "      <td>0.921683</td>\n",
       "      <td>0.269604</td>\n",
       "      <td>0.9258</td>\n",
       "    </tr>\n",
       "    <tr>\n",
       "      <th>197</th>\n",
       "      <td>0.279420</td>\n",
       "      <td>0.921783</td>\n",
       "      <td>0.269207</td>\n",
       "      <td>0.9259</td>\n",
       "    </tr>\n",
       "    <tr>\n",
       "      <th>198</th>\n",
       "      <td>0.278977</td>\n",
       "      <td>0.922067</td>\n",
       "      <td>0.268813</td>\n",
       "      <td>0.9260</td>\n",
       "    </tr>\n",
       "    <tr>\n",
       "      <th>199</th>\n",
       "      <td>0.278536</td>\n",
       "      <td>0.922183</td>\n",
       "      <td>0.268421</td>\n",
       "      <td>0.9260</td>\n",
       "    </tr>\n",
       "  </tbody>\n",
       "</table>\n",
       "<p>200 rows × 4 columns</p>\n",
       "</div>"
      ],
      "text/plain": [
       "         loss  accuracy  val_loss  val_accuracy\n",
       "0    2.343760  0.125283  2.092929        0.3109\n",
       "1    2.093353  0.314433  1.911020        0.4870\n",
       "2    1.915978  0.481033  1.738136        0.6106\n",
       "3    1.746391  0.603317  1.575509        0.6787\n",
       "4    1.586657  0.671717  1.427668        0.7206\n",
       "..        ...       ...       ...           ...\n",
       "195  0.280312  0.921500  0.270001        0.9259\n",
       "196  0.279865  0.921683  0.269604        0.9258\n",
       "197  0.279420  0.921783  0.269207        0.9259\n",
       "198  0.278977  0.922067  0.268813        0.9260\n",
       "199  0.278536  0.922183  0.268421        0.9260\n",
       "\n",
       "[200 rows x 4 columns]"
      ]
     },
     "execution_count": 20,
     "metadata": {},
     "output_type": "execute_result"
    }
   ],
   "source": [
    "history"
   ]
  },
  {
   "cell_type": "code",
   "execution_count": 21,
   "metadata": {},
   "outputs": [
    {
     "data": {
      "text/plain": [
       "<AxesSubplot: title={'center': 'Accuracy'}>"
      ]
     },
     "execution_count": 21,
     "metadata": {},
     "output_type": "execute_result"
    },
    {
     "data": {
      "image/png": "[encoded data removed]",
      "text/plain": [
       "<Figure size 432x288 with 1 Axes>"
      ]
     },
     "metadata": {
      "needs_background": "light"
     },
     "output_type": "display_data"
    },
    {
     "data": {
      "image/png": "[encoded data removed]",
      "text/plain": [
       "<Figure size 432x288 with 1 Axes>"
      ]
     },
     "metadata": {
      "needs_background": "light"
     },
     "output_type": "display_data"
    }
   ],
   "source": [
    "history.plot(y=['loss', 'val_loss'], title='Loss')\n",
    "history.plot(y=['accuracy', 'val_accuracy'], title='Accuracy')"
   ]
  },
  {
   "cell_type": "markdown",
   "metadata": {},
   "source": [
    "# Evaluation of our Model\n",
    "\n",
    "Since we are faced with a classification problem, there is more than just accuracy we care about."
   ]
  },
  {
   "cell_type": "markdown",
   "metadata": {},
   "source": [
    "## Classification Report\n",
    "\n",
    "This is a handy function from the `sklearn` library. It outputs the 1 vs all precision, recall, f1-score and support for each class. This is most useful when you have unbalanced datasets (not the case here). "
   ]
  },
  {
   "cell_type": "code",
   "execution_count": 22,
   "metadata": {},
   "outputs": [],
   "source": [
    "from sklearn.metrics import classification_report"
   ]
  },
  {
   "cell_type": "code",
   "execution_count": 23,
   "metadata": {},
   "outputs": [
    {
     "name": "stdout",
     "output_type": "stream",
     "text": [
      "313/313 [==============================] - 0s 420us/step\n"
     ]
    }
   ],
   "source": [
    "y_test_predict = model.predict(x_test)"
   ]
  },
  {
   "cell_type": "code",
   "execution_count": 24,
   "metadata": {},
   "outputs": [
    {
     "name": "stdout",
     "output_type": "stream",
     "text": [
      "              precision    recall  f1-score   support\n",
      "\n",
      "           0       0.94      0.98      0.96       980\n",
      "           1       0.97      0.98      0.97      1135\n",
      "           2       0.93      0.90      0.91      1032\n",
      "           3       0.90      0.92      0.91      1010\n",
      "           4       0.91      0.94      0.92       982\n",
      "           5       0.92      0.87      0.90       892\n",
      "           6       0.93      0.95      0.94       958\n",
      "           7       0.94      0.93      0.93      1028\n",
      "           8       0.89      0.89      0.89       974\n",
      "           9       0.91      0.90      0.90      1009\n",
      "\n",
      "    accuracy                           0.93     10000\n",
      "   macro avg       0.93      0.92      0.92     10000\n",
      "weighted avg       0.93      0.93      0.93     10000\n",
      "\n"
     ]
    }
   ],
   "source": [
    "print(classification_report(y_true=y_test.argmax(1), y_pred=y_test_predict.argmax(1)))"
   ]
  },
  {
   "cell_type": "markdown",
   "metadata": {},
   "source": [
    "## Confusion Matrix\n",
    "\n",
    "We can also look at the so-called *confusion matrix*, which is a matrix whose $i,j$ entry represents the number of samples  belong to class $i$ that was classified as class $j$."
   ]
  },
  {
   "cell_type": "code",
   "execution_count": 25,
   "metadata": {},
   "outputs": [],
   "source": [
    "from sklearn.metrics import confusion_matrix"
   ]
  },
  {
   "cell_type": "code",
   "execution_count": 26,
   "metadata": {},
   "outputs": [],
   "source": [
    "cmatrix = confusion_matrix(y_true=y_test.argmax(1), y_pred=y_test_predict.argmax(1))"
   ]
  },
  {
   "cell_type": "code",
   "execution_count": 27,
   "metadata": {},
   "outputs": [
    {
     "name": "stdout",
     "output_type": "stream",
     "text": [
      "[[ 962    0    3    3    0    3    5    1    3    0]\n",
      " [   0 1110    2    2    1    1    4    2   13    0]\n",
      " [   9    3  925   16   17    0   12   13   32    5]\n",
      " [   3    0   18  926    1   24    2   12   17    7]\n",
      " [   1    3    3    1  920    0   11    2    6   35]\n",
      " [  10    3    6   37   10  777   16    3   23    7]\n",
      " [  13    3    3    1   11   12  911    1    3    0]\n",
      " [   3    9   26    4    9    0    0  951    3   23]\n",
      " [   8    4    8   23    8   19   13    8  870   13]\n",
      " [  10    8    2   12   39    7    1   16    6  908]]\n"
     ]
    }
   ],
   "source": [
    "print(cmatrix)"
   ]
  },
  {
   "cell_type": "markdown",
   "metadata": {},
   "source": [
    "Let us use `sns.heatmap` to visualize the confusion matrix"
   ]
  },
  {
   "cell_type": "code",
   "execution_count": 28,
   "metadata": {},
   "outputs": [
    {
     "data": {
      "text/plain": [
       "<AxesSubplot: >"
      ]
     },
     "execution_count": 28,
     "metadata": {},
     "output_type": "execute_result"
    },
    {
     "data": {
      "image/png": "[encoded data removed]",
      "text/plain": [
       "<Figure size 432x288 with 2 Axes>"
      ]
     },
     "metadata": {
      "needs_background": "light"
     },
     "output_type": "display_data"
    }
   ],
   "source": [
    "sns.heatmap(cmatrix, annot=True, fmt=\"d\")"
   ]
  },
  {
   "cell_type": "markdown",
   "metadata": {},
   "source": [
    "We can also get rid of the diagonal values (representing the correctly classified samples) for a clearer view of the main confusion"
   ]
  },
  {
   "cell_type": "code",
   "execution_count": 29,
   "metadata": {},
   "outputs": [
    {
     "data": {
      "text/plain": [
       "<AxesSubplot: >"
      ]
     },
     "execution_count": 29,
     "metadata": {},
     "output_type": "execute_result"
    },
    {
     "data": {
      "image/png": "[encoded data removed]",
      "text/plain": [
       "<Figure size 432x288 with 2 Axes>"
      ]
     },
     "metadata": {
      "needs_background": "light"
     },
     "output_type": "display_data"
    }
   ],
   "source": [
    "np.fill_diagonal(cmatrix, 0)\n",
    "sns.heatmap(cmatrix, annot=True, fmt=\"d\")"
   ]
  }
 ],
 "metadata": {
  "kernelspec": {
   "display_name": "Python 3 (ipykernel)",
   "language": "python",
   "name": "python3"
  },
  "language_info": {
   "codemirror_mode": {
    "name": "ipython",
    "version": 3
   },
   "file_extension": ".py",
   "mimetype": "text/x-python",
   "name": "python",
   "nbconvert_exporter": "python",
   "pygments_lexer": "ipython3",
   "version": "3.9.12"
  },
  "latex_envs": {
   "LaTeX_envs_menu_present": true,
   "autoclose": false,
   "autocomplete": true,
   "bibliofile": "biblio.bib",
   "cite_by": "apalike",
   "current_citInitial": 1,
   "eqLabelWithNumbers": true,
   "eqNumInitial": 1,
   "hotkeys": {
    "equation": "Ctrl-E",
    "itemize": "Ctrl-I"
   },
   "labels_anchors": false,
   "latex_user_defs": false,
   "report_style_numbering": false,
   "user_envs_cfg": false
  },
  "toc": {
   "base_numbering": 1,
   "nav_menu": {},
   "number_sections": true,
   "sideBar": true,
   "skip_h1_title": false,
   "title_cell": "Table of Contents",
   "title_sidebar": "Contents",
   "toc_cell": false,
   "toc_position": {
    "height": "calc(100% - 180px)",
    "left": "10px",
    "top": "150px",
    "width": "259.99px"
   },
   "toc_section_display": true,
   "toc_window_display": true
  }
 },
 "nbformat": 4,
 "nbformat_minor": 2
}
