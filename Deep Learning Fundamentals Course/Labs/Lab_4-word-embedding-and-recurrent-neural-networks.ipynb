{
 "cells": [
  {
   "cell_type": "code",
   "execution_count": null,
   "metadata": {
    "colab": {
     "base_uri": "https://localhost:8080/"
    },
    "executionInfo": {
     "elapsed": 3265,
     "status": "ok",
     "timestamp": 1662453729673,
     "user": {
      "displayName": "Xin AI",
      "userId": "08487103376102314083"
     },
     "user_tz": -480
    },
    "id": "VDa6Q0TZQ-VM",
    "outputId": "3f82e012-05d2-493c-971c-58b48a5345be"
   },
   "outputs": [
    {
     "name": "stdout",
     "output_type": "stream",
     "text": [
      "keras:  2.8.0\n"
     ]
    }
   ],
   "source": [
    "from tensorflow import keras\n",
    "print('keras: ', keras.__version__)\n",
    "from tensorflow.keras.layers import Embedding\n",
    "from tensorflow.keras.datasets import imdb\n",
    "from tensorflow.keras import preprocessing\n",
    "\n",
    "from tensorflow.keras.models import Sequential\n",
    "from tensorflow.keras.layers import Flatten, Dense, Dropout\n",
    "\n",
    "import matplotlib.pyplot as plt\n",
    "%matplotlib inline"
   ]
  },
  {
   "cell_type": "markdown",
   "metadata": {
    "id": "jpBq0CAZQ-VN"
   },
   "source": [
    "## Objectives\n",
    "After completing this practical exercise, students should be able to:\n",
    "1. [Understand how to use word embeddings](#word)\n",
    "2. [Understand how to use the simple recurrent layer](#simple)\n",
    "3. [Understand how to use LSTM layers to build RNN ](#lstm)\n",
    "4. [Exercise Two: Use GRU layers to build RNN](#exc2)"
   ]
  },
  {
   "cell_type": "markdown",
   "metadata": {
    "id": "fgHxnD2AQ-VO"
   },
   "source": [
    "## 1. Using word embeddings  <a id='word' />"
   ]
  },
  {
   "cell_type": "markdown",
   "metadata": {
    "id": "zdEcQ8DCQ-VO"
   },
   "source": [
    "\n",
    "\n",
    "### 1.1 Learning word embeddings with the `Embedding` layer\n"
   ]
  },
  {
   "cell_type": "code",
   "execution_count": null,
   "metadata": {
    "id": "z-S5SEnNQ-VO"
   },
   "outputs": [],
   "source": [
    "from tensorflow.keras.layers import Embedding\n",
    "# The Embedding layer takes at least two arguments:\n",
    "# the number of possible tokens, here 1000 (1 + maximum word index),\n",
    "# and the dimensionality of the embeddings, here 8.\n",
    "embedding_layer = Embedding(1000, 8)"
   ]
  },
  {
   "cell_type": "markdown",
   "metadata": {
    "id": "3OfkgPeEQ-VP"
   },
   "source": [
    "\n",
    "The `Embedding` layer is best understood as a dictionary mapping integer indices (which stand for specific words) to dense vectors. "
   ]
  },
  {
   "cell_type": "code",
   "execution_count": null,
   "metadata": {
    "id": "CnXY8AHEQ-VP"
   },
   "outputs": [],
   "source": [
    "from tensorflow.keras.datasets import imdb\n",
    "from tensorflow.keras import preprocessing\n",
    "\n",
    "# Number of words to consider as features = number of vocabulary\n",
    "max_features = 10000\n",
    "\n",
    "# Load the data as lists of integers.\n",
    "(train_data, y_train), (test_data, y_test) = imdb.load_data(num_words=max_features)"
   ]
  },
  {
   "cell_type": "code",
   "execution_count": null,
   "metadata": {
    "colab": {
     "base_uri": "https://localhost:8080/"
    },
    "executionInfo": {
     "elapsed": 311,
     "status": "ok",
     "timestamp": 1662449341850,
     "user": {
      "displayName": "Xin AI",
      "userId": "08487103376102314083"
     },
     "user_tz": -480
    },
    "id": "N5hED72OQ-VQ",
    "outputId": "8ed9d433-fd8d-44e1-92fe-2baa99f42280"
   },
   "outputs": [
    {
     "name": "stdout",
     "output_type": "stream",
     "text": [
      "The 1st sample has 218 words.\n",
      "[1, 14, 22, 16, 43, 530, 973, 1622, 1385, 65, 458, 4468, 66, 3941, 4, 173, 36, 256, 5, 25, 100, 43, 838, 112, 50, 670, 2, 9, 35, 480, 284, 5, 150, 4, 172, 112, 167, 2, 336, 385, 39, 4, 172, 4536, 1111, 17, 546, 38, 13, 447, 4, 192, 50, 16, 6, 147, 2025, 19, 14, 22, 4, 1920, 4613, 469, 4, 22, 71, 87, 12, 16, 43, 530, 38, 76, 15, 13, 1247, 4, 22, 17, 515, 17, 12, 16, 626, 18, 2, 5, 62, 386, 12, 8, 316, 8, 106, 5, 4, 2223, 5244, 16, 480, 66, 3785, 33, 4, 130, 12, 16, 38, 619, 5, 25, 124, 51, 36, 135, 48, 25, 1415, 33, 6, 22, 12, 215, 28, 77, 52, 5, 14, 407, 16, 82, 2, 8, 4, 107, 117, 5952, 15, 256, 4, 2, 7, 3766, 5, 723, 36, 71, 43, 530, 476, 26, 400, 317, 46, 7, 4, 2, 1029, 13, 104, 88, 4, 381, 15, 297, 98, 32, 2071, 56, 26, 141, 6, 194, 7486, 18, 4, 226, 22, 21, 134, 476, 26, 480, 5, 144, 30, 5535, 18, 51, 36, 28, 224, 92, 25, 104, 4, 226, 65, 16, 38, 1334, 88, 12, 16, 283, 5, 16, 4472, 113, 103, 32, 15, 16, 5345, 19, 178, 32]\n"
     ]
    }
   ],
   "source": [
    "# number of words in one sequence\n",
    "print('The 1st sample has', len(train_data[0]), 'words.')\n",
    "print(train_data[0])"
   ]
  },
  {
   "cell_type": "code",
   "execution_count": null,
   "metadata": {
    "id": "WbsLytt4Q-VQ"
   },
   "outputs": [],
   "source": [
    "# Cut the review sequence after this number of words \n",
    "maxlen = 20\n",
    "\n",
    "# This turns our lists of integers\n",
    "# into a 2D integer tensor of shape `(samples, maxlen)`\n",
    "# Sequences shorter than maxlen be padded with zeros\n",
    "# Sequences longer than maxlen be truncated, default truncating ='pre'\n",
    "x_train = preprocessing.sequence.pad_sequences(train_data, maxlen=maxlen, truncating ='pre')\n",
    "x_test = preprocessing.sequence.pad_sequences(test_data, maxlen=maxlen, truncating ='pre')"
   ]
  },
  {
   "cell_type": "code",
   "execution_count": null,
   "metadata": {
    "colab": {
     "base_uri": "https://localhost:8080/"
    },
    "executionInfo": {
     "elapsed": 1,
     "status": "ok",
     "timestamp": 1662449347441,
     "user": {
      "displayName": "Xin AI",
      "userId": "08487103376102314083"
     },
     "user_tz": -480
    },
    "id": "M7qmEryQQ-VR",
    "outputId": "6130f6c1-0e4b-4513-b410-314d1d9238c3"
   },
   "outputs": [
    {
     "name": "stdout",
     "output_type": "stream",
     "text": [
      "[  65   16   38 1334   88   12   16  283    5   16 4472  113  103   32\n",
      "   15   16 5345   19  178   32]\n"
     ]
    }
   ],
   "source": [
    "print(x_train[0])"
   ]
  },
  {
   "cell_type": "code",
   "execution_count": null,
   "metadata": {
    "colab": {
     "base_uri": "https://localhost:8080/"
    },
    "executionInfo": {
     "elapsed": 21171,
     "status": "ok",
     "timestamp": 1662449375803,
     "user": {
      "displayName": "Xin AI",
      "userId": "08487103376102314083"
     },
     "user_tz": -480
    },
    "id": "_ECgW1NLQ-VR",
    "outputId": "e5f9d9e9-7d2a-4275-f917-12b69b936201"
   },
   "outputs": [
    {
     "name": "stdout",
     "output_type": "stream",
     "text": [
      "Model: \"sequential_28\"\n",
      "_________________________________________________________________\n",
      " Layer (type)                Output Shape              Param #   \n",
      "=================================================================\n",
      " embedding_31 (Embedding)    (None, 20, 8)             80000     \n",
      "                                                                 \n",
      " flatten_11 (Flatten)        (None, 160)               0         \n",
      "                                                                 \n",
      " dense_19 (Dense)            (None, 1)                 161       \n",
      "                                                                 \n",
      "=================================================================\n",
      "Total params: 80,161\n",
      "Trainable params: 80,161\n",
      "Non-trainable params: 0\n",
      "_________________________________________________________________\n",
      "Epoch 1/10\n",
      "625/625 [==============================] - 2s 2ms/step - loss: 0.6807 - acc: 0.5859 - val_loss: 0.6462 - val_acc: 0.6786\n",
      "Epoch 2/10\n",
      "625/625 [==============================] - 1s 2ms/step - loss: 0.5664 - acc: 0.7452 - val_loss: 0.5376 - val_acc: 0.7242\n",
      "Epoch 3/10\n",
      "625/625 [==============================] - 1s 2ms/step - loss: 0.4716 - acc: 0.7824 - val_loss: 0.5048 - val_acc: 0.7420\n",
      "Epoch 4/10\n",
      "625/625 [==============================] - 1s 2ms/step - loss: 0.4268 - acc: 0.8084 - val_loss: 0.4975 - val_acc: 0.7470\n",
      "Epoch 5/10\n",
      "625/625 [==============================] - 2s 3ms/step - loss: 0.3976 - acc: 0.8242 - val_loss: 0.4971 - val_acc: 0.7516\n",
      "Epoch 6/10\n",
      "625/625 [==============================] - 2s 3ms/step - loss: 0.3736 - acc: 0.8364 - val_loss: 0.4985 - val_acc: 0.7568\n",
      "Epoch 7/10\n",
      "625/625 [==============================] - 1s 2ms/step - loss: 0.3522 - acc: 0.8469 - val_loss: 0.5056 - val_acc: 0.7532\n",
      "Epoch 8/10\n",
      "625/625 [==============================] - 1s 2ms/step - loss: 0.3321 - acc: 0.8590 - val_loss: 0.5092 - val_acc: 0.7520\n",
      "Epoch 9/10\n",
      "625/625 [==============================] - 1s 2ms/step - loss: 0.3127 - acc: 0.8699 - val_loss: 0.5169 - val_acc: 0.7500\n",
      "Epoch 10/10\n",
      "625/625 [==============================] - 1s 2ms/step - loss: 0.2943 - acc: 0.8799 - val_loss: 0.5262 - val_acc: 0.7466\n"
     ]
    }
   ],
   "source": [
    "from tensorflow.keras.models import Sequential\n",
    "from tensorflow.keras.layers import Flatten, Dense, Dropout\n",
    "\n",
    "model = Sequential()\n",
    "# We specify the maximum input length to our Embedding layer\n",
    "# so we can later flatten the embedded inputs\n",
    "model.add(Embedding(max_features, 8, input_length=maxlen))\n",
    "# After the Embedding layer, \n",
    "# our activations have shape `(samples, maxlen, 8)`.\n",
    "\n",
    "# We flatten the 3D tensor of embeddings \n",
    "# into a 2D tensor of shape `(samples, maxlen * 8)`\n",
    "model.add(Flatten())\n",
    "\n",
    "# We add the classifier on top\n",
    "model.add(Dense(1, activation='sigmoid'))\n",
    "model.compile(optimizer='rmsprop', loss='binary_crossentropy', metrics=['acc'])\n",
    "model.summary()\n",
    "\n",
    "history = model.fit(x_train, y_train,\n",
    "                    epochs=10,\n",
    "                    batch_size=32,\n",
    "                    validation_split=0.2)"
   ]
  },
  {
   "cell_type": "markdown",
   "metadata": {
    "id": "L1G7txq-Q-VS"
   },
   "source": [
    "We get to a validation accuracy of ~75%, which is pretty good considering that we only look at the last 20 words in every review. "
   ]
  },
  {
   "cell_type": "code",
   "execution_count": null,
   "metadata": {
    "id": "Vof_lPg4Q-VU"
   },
   "outputs": [],
   "source": [
    "# increase the maxlen from 20 to 100\n",
    "maxlen = 100\n",
    "\n",
    "x_train = preprocessing.sequence.pad_sequences(train_data, maxlen=maxlen, truncating ='pre')\n",
    "x_test = preprocessing.sequence.pad_sequences(test_data, maxlen=maxlen, truncating ='pre')"
   ]
  },
  {
   "cell_type": "code",
   "execution_count": null,
   "metadata": {
    "colab": {
     "base_uri": "https://localhost:8080/"
    },
    "executionInfo": {
     "elapsed": 518,
     "status": "ok",
     "timestamp": 1662449482052,
     "user": {
      "displayName": "Xin AI",
      "userId": "08487103376102314083"
     },
     "user_tz": -480
    },
    "id": "3lFuCbBjleFX",
    "outputId": "eda688f3-c7fc-4dfa-f90c-441de81a2898"
   },
   "outputs": [
    {
     "name": "stdout",
     "output_type": "stream",
     "text": [
      "Model: \"sequential_33\"\n",
      "_________________________________________________________________\n",
      " Layer (type)                Output Shape              Param #   \n",
      "=================================================================\n",
      " embedding_36 (Embedding)    (None, 100, 8)            80000     \n",
      "                                                                 \n",
      " flatten_13 (Flatten)        (None, 800)               0         \n",
      "                                                                 \n",
      " dense_21 (Dense)            (None, 1)                 801       \n",
      "                                                                 \n",
      "=================================================================\n",
      "Total params: 80,801\n",
      "Trainable params: 80,801\n",
      "Non-trainable params: 0\n",
      "_________________________________________________________________\n"
     ]
    }
   ],
   "source": [
    "model = Sequential()\n",
    "model.add(Embedding(max_features, 8, input_length=maxlen))\n",
    "model.add(Flatten())\n",
    "model.add(Dense(1, activation='sigmoid'))\n",
    "model.compile(optimizer='rmsprop', loss='binary_crossentropy', metrics=['acc'])\n",
    "model.summary()"
   ]
  },
  {
   "cell_type": "code",
   "execution_count": null,
   "metadata": {
    "colab": {
     "base_uri": "https://localhost:8080/"
    },
    "executionInfo": {
     "elapsed": 21393,
     "status": "ok",
     "timestamp": 1662449507857,
     "user": {
      "displayName": "Xin AI",
      "userId": "08487103376102314083"
     },
     "user_tz": -480
    },
    "id": "ofi_tIW5Q-VV",
    "outputId": "1f564ec9-2f74-4e7c-ca06-57c5ec015e5c"
   },
   "outputs": [
    {
     "name": "stdout",
     "output_type": "stream",
     "text": [
      "Epoch 1/10\n",
      "625/625 [==============================] - 2s 3ms/step - loss: 0.6187 - acc: 0.6885 - val_loss: 0.4744 - val_acc: 0.8018\n",
      "Epoch 2/10\n",
      "625/625 [==============================] - 2s 2ms/step - loss: 0.3720 - acc: 0.8512 - val_loss: 0.3573 - val_acc: 0.8426\n",
      "Epoch 3/10\n",
      "625/625 [==============================] - 1s 2ms/step - loss: 0.2863 - acc: 0.8839 - val_loss: 0.3284 - val_acc: 0.8536\n",
      "Epoch 4/10\n",
      "625/625 [==============================] - 2s 2ms/step - loss: 0.2452 - acc: 0.9024 - val_loss: 0.3249 - val_acc: 0.8580\n",
      "Epoch 5/10\n",
      "625/625 [==============================] - 2s 2ms/step - loss: 0.2163 - acc: 0.9166 - val_loss: 0.3229 - val_acc: 0.8614\n",
      "Epoch 6/10\n",
      "625/625 [==============================] - 1s 2ms/step - loss: 0.1928 - acc: 0.9265 - val_loss: 0.3360 - val_acc: 0.8600\n",
      "Epoch 7/10\n",
      "625/625 [==============================] - 1s 2ms/step - loss: 0.1725 - acc: 0.9355 - val_loss: 0.3368 - val_acc: 0.8608\n",
      "Epoch 8/10\n",
      "625/625 [==============================] - 2s 3ms/step - loss: 0.1543 - acc: 0.9448 - val_loss: 0.3451 - val_acc: 0.8588\n",
      "Epoch 9/10\n",
      "625/625 [==============================] - 2s 2ms/step - loss: 0.1375 - acc: 0.9506 - val_loss: 0.3549 - val_acc: 0.8580\n",
      "Epoch 10/10\n",
      "625/625 [==============================] - 2s 2ms/step - loss: 0.1220 - acc: 0.9568 - val_loss: 0.3658 - val_acc: 0.8562\n"
     ]
    }
   ],
   "source": [
    "model.compile(optimizer='rmsprop', loss='binary_crossentropy', metrics=['acc'])\n",
    "history = model.fit(x_train, y_train,\n",
    "                    epochs=10,\n",
    "                    batch_size=32,\n",
    "                    validation_split=0.2)"
   ]
  },
  {
   "cell_type": "markdown",
   "metadata": {
    "id": "H-79k1TNyfeO"
   },
   "source": [
    "By increasing the number of words per sample, we manage to increase both the size of the training data and the model size. \n",
    "\n",
    "Though the model is still very overfitted but we managed to improve the val_acc by around 10%. "
   ]
  },
  {
   "cell_type": "markdown",
   "metadata": {
    "id": "loSw7GgFQ-VV"
   },
   "source": [
    "## 2. Understand the simple recurrent layer in Keras <a id='simple' />\n",
    "\n",
    "We will start by using a simple RNN layer in Keras: the `SimpleRNN` layer:\n"
   ]
  },
  {
   "cell_type": "code",
   "execution_count": null,
   "metadata": {
    "id": "ZsRS6TnpQ-VV"
   },
   "outputs": [],
   "source": [
    "from tensorflow.keras.layers import SimpleRNN"
   ]
  },
  {
   "cell_type": "markdown",
   "metadata": {
    "id": "IqKDUQWbQ-VV"
   },
   "source": [
    "`SimpleRNN` processes batches of sequences, like all other Keras layers. This means that it takes inputs of shape `(batch_size, timesteps, input_features)`.`SimpleRNN` can be run in two different modes: it can return either the full sequences of successive \n",
    "outputs for each timestep (a 3D tensor of shape `(batch_size, timesteps, output_features)`), or it can return only the last output for each input sequence (a 2D tensor of shape `(batch_size, output_features)`). These two modes are controlled by the `return_sequences` constructor argument. Let's take a look at an example:"
   ]
  },
  {
   "cell_type": "code",
   "execution_count": null,
   "metadata": {
    "colab": {
     "base_uri": "https://localhost:8080/"
    },
    "executionInfo": {
     "elapsed": 8,
     "status": "ok",
     "timestamp": 1662450063987,
     "user": {
      "displayName": "Xin AI",
      "userId": "08487103376102314083"
     },
     "user_tz": -480
    },
    "id": "BRHoULyWQ-VW",
    "outputId": "8d82adb4-de74-4559-ef05-948357cf8cf1"
   },
   "outputs": [
    {
     "name": "stdout",
     "output_type": "stream",
     "text": [
      "Model: \"sequential_36\"\n",
      "_________________________________________________________________\n",
      " Layer (type)                Output Shape              Param #   \n",
      "=================================================================\n",
      " embedding_39 (Embedding)    (None, 100, 8)            80000     \n",
      "                                                                 \n",
      " simple_rnn_34 (SimpleRNN)   (None, 4)                 52        \n",
      "                                                                 \n",
      "=================================================================\n",
      "Total params: 80,052\n",
      "Trainable params: 80,052\n",
      "Non-trainable params: 0\n",
      "_________________________________________________________________\n"
     ]
    }
   ],
   "source": [
    "from tensorflow.keras.models import Sequential\n",
    "from tensorflow.keras.layers import Embedding, SimpleRNN\n",
    "#Embedding is a popular method to process text data.\n",
    "#We will cover more on word embedding in Practical 7.\n",
    "\n",
    "model = Sequential()\n",
    "model.add(Embedding(10000, 8, input_length=100)) #receive word embedding as input\n",
    "model.add(SimpleRNN(4))\n",
    "model.summary()"
   ]
  },
  {
   "cell_type": "code",
   "execution_count": null,
   "metadata": {
    "colab": {
     "base_uri": "https://localhost:8080/"
    },
    "executionInfo": {
     "elapsed": 412,
     "status": "ok",
     "timestamp": 1662450068072,
     "user": {
      "displayName": "Xin AI",
      "userId": "08487103376102314083"
     },
     "user_tz": -480
    },
    "id": "tkswRlQqQ-VW",
    "outputId": "2724bd5c-6da8-4779-9bf5-16b95f8e2f3a"
   },
   "outputs": [
    {
     "name": "stdout",
     "output_type": "stream",
     "text": [
      "Model: \"sequential_37\"\n",
      "_________________________________________________________________\n",
      " Layer (type)                Output Shape              Param #   \n",
      "=================================================================\n",
      " embedding_40 (Embedding)    (None, 100, 8)            80000     \n",
      "                                                                 \n",
      " simple_rnn_35 (SimpleRNN)   (None, 100, 4)            52        \n",
      "                                                                 \n",
      "=================================================================\n",
      "Total params: 80,052\n",
      "Trainable params: 80,052\n",
      "Non-trainable params: 0\n",
      "_________________________________________________________________\n"
     ]
    }
   ],
   "source": [
    "model = Sequential()\n",
    "model.add(Embedding(10000, 8, input_length=100))\n",
    "model.add(SimpleRNN(4, return_sequences=True))\n",
    "model.summary()"
   ]
  },
  {
   "cell_type": "markdown",
   "metadata": {
    "id": "6FLIu8jrQ-VW"
   },
   "source": [
    "It is sometimes useful to stack several recurrent layers one after the other in order to increase the representational power of a network. \n",
    "In such a setup, you have to get all intermediate layers to return full sequences:"
   ]
  },
  {
   "cell_type": "code",
   "execution_count": null,
   "metadata": {
    "colab": {
     "base_uri": "https://localhost:8080/"
    },
    "executionInfo": {
     "elapsed": 297,
     "status": "ok",
     "timestamp": 1662450077218,
     "user": {
      "displayName": "Xin AI",
      "userId": "08487103376102314083"
     },
     "user_tz": -480
    },
    "id": "oJLKwIonQ-VW",
    "outputId": "52f01f50-9e57-4cbd-873e-391be71c1718"
   },
   "outputs": [
    {
     "name": "stdout",
     "output_type": "stream",
     "text": [
      "Model: \"sequential_38\"\n",
      "_________________________________________________________________\n",
      " Layer (type)                Output Shape              Param #   \n",
      "=================================================================\n",
      " embedding_41 (Embedding)    (None, 100, 8)            80000     \n",
      "                                                                 \n",
      " simple_rnn_36 (SimpleRNN)   (None, 100, 4)            52        \n",
      "                                                                 \n",
      " simple_rnn_37 (SimpleRNN)   (None, 4)                 36        \n",
      "                                                                 \n",
      "=================================================================\n",
      "Total params: 80,088\n",
      "Trainable params: 80,088\n",
      "Non-trainable params: 0\n",
      "_________________________________________________________________\n"
     ]
    }
   ],
   "source": [
    "model = Sequential()\n",
    "model.add(Embedding(10000, 8,  input_length=100))\n",
    "model.add(SimpleRNN(4, return_sequences=True))\n",
    "model.add(SimpleRNN(4))  # This last layer only returns the last outputs.\n",
    "model.summary()"
   ]
  },
  {
   "cell_type": "markdown",
   "metadata": {
    "id": "5sb6WuMdQ-VX"
   },
   "source": [
    "Now let's try to use such a model on the IMDB movie review classification problem. "
   ]
  },
  {
   "cell_type": "markdown",
   "metadata": {
    "id": "8TO35fr2Q-VX"
   },
   "source": [
    "Let's train a simple recurrent network using an `Embedding` layer and a `SimpleRNN` layer:"
   ]
  },
  {
   "cell_type": "code",
   "execution_count": null,
   "metadata": {
    "colab": {
     "base_uri": "https://localhost:8080/"
    },
    "executionInfo": {
     "elapsed": 206977,
     "status": "ok",
     "timestamp": 1662450295479,
     "user": {
      "displayName": "Xin AI",
      "userId": "08487103376102314083"
     },
     "user_tz": -480
    },
    "id": "XdSw-DG7Q-VX",
    "outputId": "47b1523b-51f0-4480-c073-ffb702d58865"
   },
   "outputs": [
    {
     "name": "stdout",
     "output_type": "stream",
     "text": [
      "Model: \"sequential_39\"\n",
      "_________________________________________________________________\n",
      " Layer (type)                Output Shape              Param #   \n",
      "=================================================================\n",
      " embedding_42 (Embedding)    (None, 100, 8)            80000     \n",
      "                                                                 \n",
      " simple_rnn_38 (SimpleRNN)   (None, 100, 4)            52        \n",
      "                                                                 \n",
      " dropout_3 (Dropout)         (None, 100, 4)            0         \n",
      "                                                                 \n",
      " simple_rnn_39 (SimpleRNN)   (None, 4)                 36        \n",
      "                                                                 \n",
      " dense_24 (Dense)            (None, 1)                 5         \n",
      "                                                                 \n",
      "=================================================================\n",
      "Total params: 80,093\n",
      "Trainable params: 80,093\n",
      "Non-trainable params: 0\n",
      "_________________________________________________________________\n",
      "Epoch 1/10\n",
      "625/625 [==============================] - 23s 33ms/step - loss: 0.6277 - acc: 0.6447 - val_loss: 0.4731 - val_acc: 0.8098\n",
      "Epoch 2/10\n",
      "625/625 [==============================] - 20s 33ms/step - loss: 0.4051 - acc: 0.8396 - val_loss: 0.4096 - val_acc: 0.8306\n",
      "Epoch 3/10\n",
      "625/625 [==============================] - 20s 32ms/step - loss: 0.3190 - acc: 0.8772 - val_loss: 0.4147 - val_acc: 0.8324\n",
      "Epoch 4/10\n",
      "625/625 [==============================] - 21s 34ms/step - loss: 0.2722 - acc: 0.8978 - val_loss: 0.4044 - val_acc: 0.8300\n",
      "Epoch 5/10\n",
      "625/625 [==============================] - 20s 32ms/step - loss: 0.2425 - acc: 0.9140 - val_loss: 0.3896 - val_acc: 0.8416\n",
      "Epoch 6/10\n",
      "625/625 [==============================] - 20s 32ms/step - loss: 0.2207 - acc: 0.9212 - val_loss: 0.4846 - val_acc: 0.8250\n",
      "Epoch 7/10\n",
      "625/625 [==============================] - 21s 34ms/step - loss: 0.1970 - acc: 0.9309 - val_loss: 0.4205 - val_acc: 0.8342\n",
      "Epoch 8/10\n",
      "625/625 [==============================] - 20s 33ms/step - loss: 0.1823 - acc: 0.9347 - val_loss: 0.4212 - val_acc: 0.8368\n",
      "Epoch 9/10\n",
      "625/625 [==============================] - 20s 32ms/step - loss: 0.1688 - acc: 0.9395 - val_loss: 0.4381 - val_acc: 0.8384\n",
      "Epoch 10/10\n",
      "625/625 [==============================] - 20s 32ms/step - loss: 0.1515 - acc: 0.9463 - val_loss: 0.4951 - val_acc: 0.8396\n"
     ]
    }
   ],
   "source": [
    "from tensorflow.keras.layers import Dense\n",
    "\n",
    "model = Sequential()\n",
    "model.add(Embedding(max_features, 8, input_length=maxlen))\n",
    "model.add(SimpleRNN(4, return_sequences=True))\n",
    "model.add(Dropout(0.2))\n",
    "model.add(SimpleRNN(4))\n",
    "model.add(Dense(1, activation='sigmoid'))\n",
    "\n",
    "model.summary()\n",
    "\n",
    "model.compile(optimizer='rmsprop', loss='binary_crossentropy', metrics=['acc'])\n",
    "\n",
    "history = model.fit(x_train, y_train,\n",
    "                    epochs=10,\n",
    "                    batch_size=32,\n",
    "                    validation_split=0.2)"
   ]
  },
  {
   "cell_type": "markdown",
   "metadata": {
    "id": "hwgMeXqmQ-VX"
   },
   "source": [
    "Let's display the training and validation loss and accuracy:"
   ]
  },
  {
   "cell_type": "code",
   "execution_count": null,
   "metadata": {
    "colab": {
     "base_uri": "https://localhost:8080/",
     "height": 545
    },
    "executionInfo": {
     "elapsed": 1159,
     "status": "ok",
     "timestamp": 1662450330444,
     "user": {
      "displayName": "Xin AI",
      "userId": "08487103376102314083"
     },
     "user_tz": -480
    },
    "id": "jVYvsba-Q-VY",
    "outputId": "8d3b2628-caa1-4754-b470-3b379fec2418"
   },
   "outputs": [
    {
     "data": {
      "image/png": "[encoded data removed]",
      "text/plain": [
       "<Figure size 432x288 with 1 Axes>"
      ]
     },
     "metadata": {
      "needs_background": "light"
     },
     "output_type": "display_data"
    },
    {
     "data": {
      "image/png": "[encoded data removed]",
      "text/plain": [
       "<Figure size 432x288 with 1 Axes>"
      ]
     },
     "metadata": {
      "needs_background": "light"
     },
     "output_type": "display_data"
    }
   ],
   "source": [
    "import matplotlib.pyplot as plt\n",
    "%matplotlib inline\n",
    "\n",
    "acc = history.history['acc']\n",
    "val_acc = history.history['val_acc']\n",
    "loss = history.history['loss']\n",
    "val_loss = history.history['val_loss']\n",
    "\n",
    "epochs = range(len(acc))\n",
    "\n",
    "plt.plot(epochs, acc, 'bo', label='Training acc')\n",
    "plt.plot(epochs, val_acc, 'b', label='Validation acc')\n",
    "plt.title('Training and validation accuracy')\n",
    "plt.legend()\n",
    "\n",
    "plt.figure()\n",
    "\n",
    "plt.plot(epochs, loss, 'bo', label='Training loss')\n",
    "plt.plot(epochs, val_loss, 'b', label='Validation loss')\n",
    "plt.title('Training and validation loss')\n",
    "plt.legend()\n",
    "\n",
    "plt.show()"
   ]
  },
  {
   "cell_type": "markdown",
   "metadata": {
    "id": "17tW-SjRQ-VY"
   },
   "source": [
    "Our previous model with only embedding layer gave us around 85% validation accuracy. This model with extra `SimpleRNN` layer performs even lower than 85%.  `SimpleRNN` isn't very good at processing long sequences, like text. Let's take a look at some more advanced layers."
   ]
  },
  {
   "cell_type": "markdown",
   "metadata": {
    "id": "uf8YorP9Q-VY"
   },
   "source": [
    "## 3. Understand the LSTM layer in Keras <a id='lstm' />\n",
    "\n",
    "We will set up a model using a LSTM layer and train it on the IMDB data. Here's the network, similar to the one with `SimpleRNN` that we just presented. We only specify the output dimensionality of the LSTM layer, and leave every other argument (there are lots) to the Keras defaults. Keras has good defaults, and things will almost always \"just work\" without you \n",
    "having to spend time tuning parameters by hand."
   ]
  },
  {
   "cell_type": "code",
   "execution_count": null,
   "metadata": {
    "colab": {
     "base_uri": "https://localhost:8080/"
    },
    "executionInfo": {
     "elapsed": 883,
     "status": "ok",
     "timestamp": 1662450379903,
     "user": {
      "displayName": "Xin AI",
      "userId": "08487103376102314083"
     },
     "user_tz": -480
    },
    "id": "gPzqqYhvQ-VY",
    "outputId": "1eb562bb-55a6-4f0f-f9a5-61b609a97ba2"
   },
   "outputs": [
    {
     "name": "stdout",
     "output_type": "stream",
     "text": [
      "Model: \"sequential_40\"\n",
      "_________________________________________________________________\n",
      " Layer (type)                Output Shape              Param #   \n",
      "=================================================================\n",
      " embedding_43 (Embedding)    (None, 100, 8)            80000     \n",
      "                                                                 \n",
      " lstm_2 (LSTM)               (None, 100, 16)           1600      \n",
      "                                                                 \n",
      " dropout_4 (Dropout)         (None, 100, 16)           0         \n",
      "                                                                 \n",
      " lstm_3 (LSTM)               (None, 16)                2112      \n",
      "                                                                 \n",
      " dense_25 (Dense)            (None, 1)                 17        \n",
      "                                                                 \n",
      "=================================================================\n",
      "Total params: 83,729\n",
      "Trainable params: 83,729\n",
      "Non-trainable params: 0\n",
      "_________________________________________________________________\n"
     ]
    }
   ],
   "source": [
    "from tensorflow.keras.layers import LSTM\n",
    "\n",
    "model = Sequential()\n",
    "model.add(Embedding(max_features, 8, input_length=maxlen))\n",
    "model.add(LSTM(16, return_sequences=True))\n",
    "model.add(Dropout(0.2))\n",
    "model.add(LSTM(16))\n",
    "model.add(Dense(1, activation='sigmoid'))\n",
    "model.summary()"
   ]
  },
  {
   "cell_type": "code",
   "execution_count": null,
   "metadata": {
    "colab": {
     "base_uri": "https://localhost:8080/"
    },
    "executionInfo": {
     "elapsed": 331714,
     "status": "ok",
     "timestamp": 1662450715915,
     "user": {
      "displayName": "Xin AI",
      "userId": "08487103376102314083"
     },
     "user_tz": -480
    },
    "id": "DMVR0f1lQ-VY",
    "outputId": "d3fd9a8c-28e9-4670-e040-8d7829496509"
   },
   "outputs": [
    {
     "name": "stdout",
     "output_type": "stream",
     "text": [
      "Epoch 1/10\n",
      "625/625 [==============================] - 43s 53ms/step - loss: 0.4881 - acc: 0.7491 - val_loss: 0.3729 - val_acc: 0.8372\n",
      "Epoch 2/10\n",
      "625/625 [==============================] - 31s 50ms/step - loss: 0.3117 - acc: 0.8693 - val_loss: 0.4195 - val_acc: 0.8258\n",
      "Epoch 3/10\n",
      "625/625 [==============================] - 31s 49ms/step - loss: 0.2682 - acc: 0.8923 - val_loss: 0.3289 - val_acc: 0.8568\n",
      "Epoch 4/10\n",
      "625/625 [==============================] - 32s 51ms/step - loss: 0.2435 - acc: 0.9049 - val_loss: 0.3422 - val_acc: 0.8580\n",
      "Epoch 5/10\n",
      "625/625 [==============================] - 31s 50ms/step - loss: 0.2276 - acc: 0.9137 - val_loss: 0.3310 - val_acc: 0.8576\n",
      "Epoch 6/10\n",
      "625/625 [==============================] - 31s 50ms/step - loss: 0.2171 - acc: 0.9168 - val_loss: 0.3657 - val_acc: 0.8514\n",
      "Epoch 7/10\n",
      "625/625 [==============================] - 31s 50ms/step - loss: 0.2096 - acc: 0.9215 - val_loss: 0.3972 - val_acc: 0.8400\n",
      "Epoch 8/10\n",
      "625/625 [==============================] - 31s 49ms/step - loss: 0.2011 - acc: 0.9236 - val_loss: 0.3421 - val_acc: 0.8574\n",
      "Epoch 9/10\n",
      "625/625 [==============================] - 32s 51ms/step - loss: 0.1943 - acc: 0.9271 - val_loss: 0.3759 - val_acc: 0.8542\n",
      "Epoch 10/10\n",
      "625/625 [==============================] - 31s 50ms/step - loss: 0.1868 - acc: 0.9305 - val_loss: 0.3614 - val_acc: 0.8566\n"
     ]
    }
   ],
   "source": [
    "model.compile(optimizer='rmsprop',\n",
    "              loss='binary_crossentropy',\n",
    "              metrics=['acc'])\n",
    "\n",
    "history = model.fit(x_train, y_train,\n",
    "                    epochs=10,\n",
    "                    batch_size=32,\n",
    "                    validation_split=0.2)"
   ]
  },
  {
   "cell_type": "code",
   "execution_count": null,
   "metadata": {
    "colab": {
     "base_uri": "https://localhost:8080/",
     "height": 545
    },
    "executionInfo": {
     "elapsed": 1000,
     "status": "ok",
     "timestamp": 1662450748298,
     "user": {
      "displayName": "Xin AI",
      "userId": "08487103376102314083"
     },
     "user_tz": -480
    },
    "id": "GcYVlblTQ-VZ",
    "outputId": "8d150762-61bc-4375-b36d-5d2fc3e7d9d4"
   },
   "outputs": [
    {
     "data": {
      "image/png": "[encoded data removed]",
      "text/plain": [
       "<Figure size 432x288 with 1 Axes>"
      ]
     },
     "metadata": {
      "needs_background": "light"
     },
     "output_type": "display_data"
    },
    {
     "data": {
      "image/png": "[encoded data removed]",
      "text/plain": [
       "<Figure size 432x288 with 1 Axes>"
      ]
     },
     "metadata": {
      "needs_background": "light"
     },
     "output_type": "display_data"
    }
   ],
   "source": [
    "acc = history.history['acc']\n",
    "val_acc = history.history['val_acc']\n",
    "loss = history.history['loss']\n",
    "val_loss = history.history['val_loss']\n",
    "\n",
    "epochs = range(len(acc))\n",
    "\n",
    "plt.plot(epochs, acc, 'bo', label='Training acc')\n",
    "plt.plot(epochs, val_acc, 'b', label='Validation acc')\n",
    "plt.title('Training and validation accuracy')\n",
    "plt.legend()\n",
    "\n",
    "plt.figure()\n",
    "\n",
    "plt.plot(epochs, loss, 'bo', label='Training loss')\n",
    "plt.plot(epochs, val_loss, 'b', label='Validation loss')\n",
    "plt.title('Training and validation loss')\n",
    "plt.legend()\n",
    "\n",
    "plt.show()"
   ]
  },
  {
   "cell_type": "markdown",
   "metadata": {
    "id": "xC9TuRo5Q-VZ"
   },
   "source": [
    "This time you achieve around 86% validation accuracy, better than the `SimpleRNN` network because LSTM suffers less from the vanishing-gradient problem (i.e. perform better on long sequences inputs).\n",
    "\n",
    "Still compared to the model without RNN layers at all, RNN layers did not improve the model performance a lot but suffers a lot of computational complexity, i.e. takes much longer time to train. \n",
    "\n",
    "For the simple sentiment analysis problem, probably we only need to use a simple linear model with embedding layer. RNN model is more useful on some more complex problems, e.g. generating a sequence of words and etc."
   ]
  },
  {
   "cell_type": "markdown",
   "metadata": {
    "id": "EAaemgAHQ-VZ"
   },
   "source": [
    "## 4. Exercise <a id='exc2'/>\n",
    "We would like you to further improve the above model performance by tuning different hyperparametars. Below are a few suggestions you can try but feel free to adjust other hyperparametars if required.\n",
    "\n",
    "1) Stack more recurrent layers on top of each other or remove recurrent layers. (Remember to set `return_sequences=True` for all the recurrent layers except the last one).\n",
    "\n",
    "2) Add in dropout regularization. In RNN, there are two types of dropout regularization:\n",
    "* dropout: the normal dropout which randomly drops the inputs of the layer;\n",
    "* recurrent_dropout: special dropout for recurrent layer only, where the dropout happens within reccurnt unit between different Sates (t-1, t, t+1)\n",
    "\n",
    "\n",
    "3) Use a different type of recurrent layer, e.g. **GRU(Gated Recurrent Units)**. Don't know what is GRU, please check out this [**website**](https://towardsdatascience.com/illustrated-guide-to-lstms-and-gru-s-a-step-by-step-explanation-44e9eb85bf21).\n",
    "\n",
    "4) Tuning other suitable hyperparameters, e.g. embedding dimension, optimizer learning rate and etc.\n",
    "\n",
    "Provide your codes & observations in the below code boxes & markdown boxes respectively."
   ]
  },
  {
   "cell_type": "code",
   "execution_count": null,
   "metadata": {
    "id": "joBpxV94HsXK"
   },
   "outputs": [],
   "source": []
  },
  {
   "cell_type": "code",
   "execution_count": null,
   "metadata": {
    "id": "cUnTb5HrHsTS"
   },
   "outputs": [],
   "source": []
  },
  {
   "cell_type": "code",
   "execution_count": null,
   "metadata": {
    "id": "Ho-8b_yLHsO7"
   },
   "outputs": [],
   "source": []
  },
  {
   "cell_type": "code",
   "execution_count": null,
   "metadata": {
    "id": "FH98tterHsLD"
   },
   "outputs": [],
   "source": []
  },
  {
   "cell_type": "code",
   "execution_count": null,
   "metadata": {
    "id": "CDExxcWqHsHC"
   },
   "outputs": [],
   "source": []
  },
  {
   "cell_type": "code",
   "execution_count": null,
   "metadata": {
    "id": "dUNJyA_XHr_z"
   },
   "outputs": [],
   "source": []
  }
 ],
 "metadata": {
  "colab": {
   "collapsed_sections": [],
   "provenance": []
  },
  "kernelspec": {
   "display_name": "Python 3 (ipykernel)",
   "language": "python",
   "name": "python3"
  },
  "language_info": {
   "codemirror_mode": {
    "name": "ipython",
    "version": 3
   },
   "file_extension": ".py",
   "mimetype": "text/x-python",
   "name": "python",
   "nbconvert_exporter": "python",
   "pygments_lexer": "ipython3",
   "version": "3.10.8"
  }
 },
 "nbformat": 4,
 "nbformat_minor": 1
}
