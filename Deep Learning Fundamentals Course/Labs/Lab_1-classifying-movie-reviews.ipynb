{
 "cells": [
  {
   "cell_type": "code",
   "execution_count": null,
   "metadata": {
    "colab": {
     "base_uri": "https://localhost:8080/"
    },
    "executionInfo": {
     "elapsed": 3371,
     "status": "ok",
     "timestamp": 1662433175844,
     "user": {
      "displayName": "Xin AI",
      "userId": "08487103376102314083"
     },
     "user_tz": -480
    },
    "id": "gUF0B3Q1vMcV",
    "outputId": "b7910e8b-7503-49dd-c1e4-f3d41f696059",
    "scrolled": true
   },
   "outputs": [
    {
     "name": "stdout",
     "output_type": "stream",
     "text": [
      "keras:  2.8.0\n"
     ]
    }
   ],
   "source": [
    "from tensorflow import keras\n",
    "print('keras: ', keras.__version__)"
   ]
  },
  {
   "cell_type": "markdown",
   "metadata": {
    "id": "371HRpbtvMcX"
   },
   "source": [
    "## Objectives\n",
    "After completing this practical exercise, students should be able to:\n",
    "1. [Build a neural network model to classify movie reviews ](#demo)\n",
    "2. [Exercise- tuning several model parameters](#exc)"
   ]
  },
  {
   "cell_type": "markdown",
   "metadata": {
    "id": "6PJ3h2ccvMcY"
   },
   "source": [
    "## 1. Classifying movie reviews (a binary classification example)  <a id='demo' />\n",
    "\n",
    "In this example, we will learn to classify movie reviews into \"positive\" reviews and \"negative\" reviews, just based on the text content of the reviews."
   ]
  },
  {
   "cell_type": "markdown",
   "metadata": {
    "id": "VrK6rr4CvMcY"
   },
   "source": [
    "### 1.1 The IMDB dataset\n",
    "\n",
    "The IMDB dataset has a set of 50,000 highly-polarized reviews from the Internet Movie Database. They are split into 25,000 \n",
    "reviews for training and 25,000 reviews for testing, each set consisting in 50% negative and 50% positive reviews.\n",
    "\n",
    "The IMDB dataset comes packaged with Keras. It has already been preprocessed: the reviews (sequences of words) \n",
    "have been turned into sequences of integers, where each integer stands for a specific word in a dictionary.\n",
    "\n",
    "The following code will load the dataset (when you run it for the first time, about 80MB of data will be downloaded to your machine):"
   ]
  },
  {
   "cell_type": "code",
   "execution_count": null,
   "metadata": {
    "colab": {
     "base_uri": "https://localhost:8080/"
    },
    "executionInfo": {
     "elapsed": 6236,
     "status": "ok",
     "timestamp": 1662433205341,
     "user": {
      "displayName": "Xin AI",
      "userId": "08487103376102314083"
     },
     "user_tz": -480
    },
    "id": "V9GQtiaOvMcY",
    "outputId": "30fa0ebd-f09d-485d-8afe-ee85122e0636",
    "scrolled": true
   },
   "outputs": [
    {
     "name": "stdout",
     "output_type": "stream",
     "text": [
      "Downloading data from https://storage.googleapis.com/tensorflow/tf-keras-datasets/imdb.npz\n",
      "17465344/17464789 [==============================] - 0s 0us/step\n",
      "17473536/17464789 [==============================] - 0s 0us/step\n"
     ]
    }
   ],
   "source": [
    "from tensorflow.keras.datasets import imdb\n",
    "\n",
    "(train_data, train_labels), (test_data, test_labels) = imdb.load_data(num_words=10000)"
   ]
  },
  {
   "cell_type": "markdown",
   "metadata": {
    "id": "YJ0JDn34vMcZ"
   },
   "source": [
    "\n",
    "The argument `num_words=10000` means that we will only keep the top 10,000 most frequently occurring words in the training data. Rare words \n",
    "will be discarded. This allows us to work with vector data of manageable size.\n",
    "\n",
    "The variables `train_data` and `test_data` are lists of reviews, each review being a list of word indices (encoding a sequence of words). \n",
    "`train_labels` and `test_labels` are lists of 0s and 1s, where 0 stands for \"negative\" and 1 stands for \"positive\":"
   ]
  },
  {
   "cell_type": "code",
   "execution_count": null,
   "metadata": {
    "colab": {
     "base_uri": "https://localhost:8080/"
    },
    "executionInfo": {
     "elapsed": 459,
     "status": "ok",
     "timestamp": 1662433208592,
     "user": {
      "displayName": "Xin AI",
      "userId": "08487103376102314083"
     },
     "user_tz": -480
    },
    "id": "KXnXKKyGvMca",
    "outputId": "9955f28e-9ffc-4070-bb22-11379ca081ad",
    "scrolled": true
   },
   "outputs": [
    {
     "name": "stdout",
     "output_type": "stream",
     "text": [
      "[1, 13, 244, 6, 87, 337, 7, 628, 2219, 5, 28, 285, 15, 240, 93, 23, 288, 549, 18, 1455, 673, 4, 241, 534, 3635, 8448, 20, 38, 54, 13, 258, 46, 44, 14, 13, 1241, 7258, 12, 5, 5, 51, 9, 14, 45, 6, 762, 7, 2, 1309, 328, 5, 428, 2473, 15, 26, 1292, 5, 3939, 6728, 5, 1960, 279, 13, 92, 124, 803, 52, 21, 279, 14, 9, 43, 6, 762, 7, 595, 15, 16, 2, 23, 4, 1071, 467, 4, 403, 7, 628, 2219, 8, 97, 6, 171, 3596, 99, 387, 72, 97, 12, 788, 15, 13, 161, 459, 44, 4, 3939, 1101, 173, 21, 69, 8, 401, 2, 4, 481, 88, 61, 4731, 238, 28, 32, 11, 32, 14, 9, 6, 545, 1332, 766, 5, 203, 73, 28, 43, 77, 317, 11, 4, 2, 953, 270, 17, 6, 3616, 13, 545, 386, 25, 92, 1142, 129, 278, 23, 14, 241, 46, 7, 158]\n",
      "\n",
      "the length of this training sample is:  158\n"
     ]
    }
   ],
   "source": [
    "import numpy as np\n",
    "\n",
    "print(train_data[100])\n",
    "print('\\nthe length of this training sample is: ',len(train_data[100]))"
   ]
  },
  {
   "cell_type": "code",
   "execution_count": null,
   "metadata": {
    "colab": {
     "base_uri": "https://localhost:8080/"
    },
    "executionInfo": {
     "elapsed": 430,
     "status": "ok",
     "timestamp": 1662433211395,
     "user": {
      "displayName": "Xin AI",
      "userId": "08487103376102314083"
     },
     "user_tz": -480
    },
    "id": "YuF2whFpvMca",
    "outputId": "4cee8777-05c9-404d-f55f-ab772dfe21b7",
    "scrolled": true
   },
   "outputs": [
    {
     "data": {
      "text/plain": [
       "0"
      ]
     },
     "execution_count": 5,
     "metadata": {},
     "output_type": "execute_result"
    }
   ],
   "source": [
    "train_labels[100]\n"
   ]
  },
  {
   "cell_type": "markdown",
   "metadata": {
    "id": "UqXSwK0nvMcb"
   },
   "source": [
    "Since we restricted ourselves to the top 10,000 most frequent words, no word index will exceed 10,000:"
   ]
  },
  {
   "cell_type": "code",
   "execution_count": null,
   "metadata": {
    "colab": {
     "base_uri": "https://localhost:8080/"
    },
    "executionInfo": {
     "elapsed": 2,
     "status": "ok",
     "timestamp": 1662433213743,
     "user": {
      "displayName": "Xin AI",
      "userId": "08487103376102314083"
     },
     "user_tz": -480
    },
    "id": "UB2k6V5GvMcb",
    "outputId": "a3e7e99f-f9f4-4cb3-d87a-e1aa43d5eeaf",
    "scrolled": true
   },
   "outputs": [
    {
     "data": {
      "text/plain": [
       "9999"
      ]
     },
     "execution_count": 6,
     "metadata": {},
     "output_type": "execute_result"
    }
   ],
   "source": [
    "max(np.array([max(sequence) for sequence in train_data]))\n"
   ]
  },
  {
   "cell_type": "markdown",
   "metadata": {
    "id": "W2XXFoAFvMcc"
   },
   "source": [
    "For kicks, here's how you can quickly decode one of these reviews back to English words:"
   ]
  },
  {
   "cell_type": "code",
   "execution_count": null,
   "metadata": {
    "colab": {
     "base_uri": "https://localhost:8080/"
    },
    "executionInfo": {
     "elapsed": 567,
     "status": "ok",
     "timestamp": 1662433216960,
     "user": {
      "displayName": "Xin AI",
      "userId": "08487103376102314083"
     },
     "user_tz": -480
    },
    "id": "9kzZ7hGkvMcc",
    "outputId": "4678d6e7-bf0d-42d7-eda6-1700f8d13cb7",
    "scrolled": true
   },
   "outputs": [
    {
     "name": "stdout",
     "output_type": "stream",
     "text": [
      "Downloading data from https://storage.googleapis.com/tensorflow/tf-keras-datasets/imdb_word_index.json\n",
      "1646592/1641221 [==============================] - 0s 0us/step\n",
      "1654784/1641221 [==============================] - 0s 0us/step\n"
     ]
    }
   ],
   "source": [
    "# word_index is a dictionary mapping words to an integer index\n",
    "word_index = imdb.get_word_index()\n",
    "# We reverse it, mapping integer indices to words\n",
    "reverse_word_index = dict([(value, key) for (key, value) in word_index.items()])\n",
    "# We decode the review; note that our indices were offset by 3\n",
    "# because 0, 1 and 2 are reserved indices for \"padding\", \"start of sequence\", and \"unknown\".\n",
    "decoded_review = ' '.join([reverse_word_index.get(i - 3, '?') for i in train_data[100]])"
   ]
  },
  {
   "cell_type": "code",
   "execution_count": null,
   "metadata": {
    "colab": {
     "base_uri": "https://localhost:8080/",
     "height": 105
    },
    "executionInfo": {
     "elapsed": 457,
     "status": "ok",
     "timestamp": 1662433220077,
     "user": {
      "displayName": "Xin AI",
      "userId": "08487103376102314083"
     },
     "user_tz": -480
    },
    "id": "TgCmbvi9vMcd",
    "outputId": "de5704e1-9fe4-4189-db1f-2cf69e5c5ff0",
    "scrolled": true
   },
   "outputs": [
    {
     "data": {
      "application/vnd.google.colaboratory.intrinsic+json": {
       "type": "string"
      },
      "text/plain": [
       "\"? i am a great fan of david lynch and have everything that he's made on dvd except for hotel room the 2 hour twin peaks movie so when i found out about this i immediately grabbed it and and what is this it's a bunch of ? drawn black and white cartoons that are loud and foul mouthed and unfunny maybe i don't know what's good but maybe this is just a bunch of crap that was ? on the public under the name of david lynch to make a few bucks too let me make it clear that i didn't care about the foul language part but had to keep ? the sound because my neighbors might have all in all this is a highly disappointing release and may well have just been left in the ? box set as a curiosity i highly recommend you don't spend your money on this 2 out of 10\""
      ]
     },
     "execution_count": 8,
     "metadata": {},
     "output_type": "execute_result"
    }
   ],
   "source": [
    "decoded_review"
   ]
  },
  {
   "cell_type": "markdown",
   "metadata": {
    "id": "2d0Kw1fKvMcd"
   },
   "source": [
    "### 1.2 Preparing the data\n",
    "\n",
    "\n",
    "We cannot feed lists of integers into a neural network. We have to turn our lists into tensors. We use one-hot-encode to turn our lists into vectors of 0s and 1s.\n",
    "For example, turning the sequence `[3, 5]` into a 10,000-dimensional vector that would be all-zeros except for indices 3 and 5, which would be ones. \n",
    "Let's vectorize our data, which we will do manually for maximum clarity:"
   ]
  },
  {
   "cell_type": "code",
   "execution_count": null,
   "metadata": {
    "id": "qZuiFIDhvMcd",
    "scrolled": true
   },
   "outputs": [],
   "source": [
    "import numpy as np\n",
    "\n",
    "def vectorize_sequences(sequences, dimension=10000):\n",
    "    # Create an all-zero matrix of shape (len(sequences), dimension)\n",
    "    results = np.zeros((len(sequences), dimension))\n",
    "    for i, sequence in enumerate(sequences):\n",
    "        results[i, sequence] = 1.  # set specific indices of results[i] to 1s\n",
    "    return results\n",
    "\n",
    "# Our vectorized training data\n",
    "x_train = vectorize_sequences(train_data)\n",
    "# Our vectorized test data\n",
    "x_test = vectorize_sequences(test_data)"
   ]
  },
  {
   "cell_type": "markdown",
   "metadata": {
    "id": "AZ7A7Jv0vMcd"
   },
   "source": [
    "Here's what our samples look like now:"
   ]
  },
  {
   "cell_type": "code",
   "execution_count": null,
   "metadata": {
    "colab": {
     "base_uri": "https://localhost:8080/"
    },
    "executionInfo": {
     "elapsed": 20,
     "status": "ok",
     "timestamp": 1662433227284,
     "user": {
      "displayName": "Xin AI",
      "userId": "08487103376102314083"
     },
     "user_tz": -480
    },
    "id": "j2vMAmj3vMce",
    "outputId": "a00b1b8f-a852-49be-9a36-032e88fec228",
    "scrolled": true
   },
   "outputs": [
    {
     "data": {
      "text/plain": [
       "(25000, 10000)"
      ]
     },
     "execution_count": 10,
     "metadata": {},
     "output_type": "execute_result"
    }
   ],
   "source": [
    "x_train.shape"
   ]
  },
  {
   "cell_type": "code",
   "execution_count": null,
   "metadata": {
    "colab": {
     "base_uri": "https://localhost:8080/"
    },
    "executionInfo": {
     "elapsed": 14,
     "status": "ok",
     "timestamp": 1662433227284,
     "user": {
      "displayName": "Xin AI",
      "userId": "08487103376102314083"
     },
     "user_tz": -480
    },
    "id": "Uxt5xcJKvMce",
    "outputId": "38c955f3-6ff6-4824-eb18-f449124af763",
    "scrolled": true
   },
   "outputs": [
    {
     "data": {
      "text/plain": [
       "array([0., 1., 1., ..., 0., 0., 0.])"
      ]
     },
     "execution_count": 11,
     "metadata": {},
     "output_type": "execute_result"
    }
   ],
   "source": [
    "x_train[100]"
   ]
  },
  {
   "cell_type": "code",
   "execution_count": null,
   "metadata": {
    "colab": {
     "base_uri": "https://localhost:8080/"
    },
    "executionInfo": {
     "elapsed": 9,
     "status": "ok",
     "timestamp": 1662433227284,
     "user": {
      "displayName": "Xin AI",
      "userId": "08487103376102314083"
     },
     "user_tz": -480
    },
    "id": "k3oUfcE7vMce",
    "outputId": "93379d2c-15b2-4c3d-be42-52c8549ac8c7",
    "scrolled": true
   },
   "outputs": [
    {
     "name": "stdout",
     "output_type": "stream",
     "text": [
      "train_data[100] is: \n",
      " [1, 13, 244, 6, 87, 337, 7, 628, 2219, 5, 28, 285, 15, 240, 93, 23, 288, 549, 18, 1455, 673, 4, 241, 534, 3635, 8448, 20, 38, 54, 13, 258, 46, 44, 14, 13, 1241, 7258, 12, 5, 5, 51, 9, 14, 45, 6, 762, 7, 2, 1309, 328, 5, 428, 2473, 15, 26, 1292, 5, 3939, 6728, 5, 1960, 279, 13, 92, 124, 803, 52, 21, 279, 14, 9, 43, 6, 762, 7, 595, 15, 16, 2, 23, 4, 1071, 467, 4, 403, 7, 628, 2219, 8, 97, 6, 171, 3596, 99, 387, 72, 97, 12, 788, 15, 13, 161, 459, 44, 4, 3939, 1101, 173, 21, 69, 8, 401, 2, 4, 481, 88, 61, 4731, 238, 28, 32, 11, 32, 14, 9, 6, 545, 1332, 766, 5, 203, 73, 28, 43, 77, 317, 11, 4, 2, 953, 270, 17, 6, 3616, 13, 545, 386, 25, 92, 1142, 129, 278, 23, 14, 241, 46, 7, 158]\n",
      "\n",
      " After one-hot-encode, train_data[100] is encoded to x_train[100]: \n",
      " [0. 1. 1. ... 0. 0. 0.]\n",
      "\n",
      " The index of non-zero elements in x_train[100] are : \n",
      " (array([   1,    2,    4,    5,    6,    7,    8,    9,   11,   12,   13,\n",
      "         14,   15,   16,   17,   18,   20,   21,   23,   25,   26,   28,\n",
      "         32,   38,   43,   44,   45,   46,   51,   52,   54,   61,   69,\n",
      "         72,   73,   77,   87,   88,   92,   93,   97,   99,  124,  129,\n",
      "        158,  161,  171,  173,  203,  238,  240,  241,  244,  258,  270,\n",
      "        278,  279,  285,  288,  317,  328,  337,  386,  387,  401,  403,\n",
      "        428,  459,  467,  481,  534,  545,  549,  595,  628,  673,  762,\n",
      "        766,  788,  803,  953, 1071, 1101, 1142, 1241, 1292, 1309, 1332,\n",
      "       1455, 1960, 2219, 2473, 3596, 3616, 3635, 3939, 4731, 6728, 7258,\n",
      "       8448]),)\n"
     ]
    }
   ],
   "source": [
    "print('train_data[100] is: \\n', train_data[100])\n",
    "print('\\n After one-hot-encode, train_data[100] is encoded to x_train[100]: \\n', x_train[100])\n",
    "print('\\n The index of non-zero elements in x_train[100] are : \\n', np.nonzero(x_train[100]))"
   ]
  },
  {
   "cell_type": "markdown",
   "metadata": {
    "id": "8fr7wNakvMcf"
   },
   "source": [
    "We should also vectorize our labels, which is straightforward:"
   ]
  },
  {
   "cell_type": "code",
   "execution_count": null,
   "metadata": {
    "colab": {
     "base_uri": "https://localhost:8080/"
    },
    "executionInfo": {
     "elapsed": 7,
     "status": "ok",
     "timestamp": 1662433227284,
     "user": {
      "displayName": "Xin AI",
      "userId": "08487103376102314083"
     },
     "user_tz": -480
    },
    "id": "ubG5sHw3vMcf",
    "outputId": "cea4aa22-2c7c-4aad-e995-d1501be89728",
    "scrolled": true
   },
   "outputs": [
    {
     "data": {
      "text/plain": [
       "0"
      ]
     },
     "execution_count": 13,
     "metadata": {},
     "output_type": "execute_result"
    }
   ],
   "source": [
    "train_labels[100]"
   ]
  },
  {
   "cell_type": "code",
   "execution_count": null,
   "metadata": {
    "id": "Lo3DBNKzvMcf",
    "scrolled": true
   },
   "outputs": [],
   "source": [
    "# Our vectorized labels\n",
    "y_train = np.asarray(train_labels).astype('float32')\n",
    "y_test = np.asarray(test_labels).astype('float32')"
   ]
  },
  {
   "cell_type": "code",
   "execution_count": null,
   "metadata": {
    "colab": {
     "base_uri": "https://localhost:8080/"
    },
    "executionInfo": {
     "elapsed": 6,
     "status": "ok",
     "timestamp": 1662433227285,
     "user": {
      "displayName": "Xin AI",
      "userId": "08487103376102314083"
     },
     "user_tz": -480
    },
    "id": "STfnszuLvMcf",
    "outputId": "162a0977-11e4-4b84-dd81-0549473e33e2",
    "scrolled": true
   },
   "outputs": [
    {
     "data": {
      "text/plain": [
       "0.0"
      ]
     },
     "execution_count": 15,
     "metadata": {},
     "output_type": "execute_result"
    }
   ],
   "source": [
    "y_train[100]"
   ]
  },
  {
   "cell_type": "markdown",
   "metadata": {
    "id": "TC5foXBJvMcg"
   },
   "source": [
    "Now our data is ready to be fed into a neural network."
   ]
  },
  {
   "cell_type": "markdown",
   "metadata": {
    "id": "lG4GUzt9vMcg"
   },
   "source": [
    "### 1.3 Building our network\n",
    "\n",
    "\n",
    "Our input data is simply vectors, and our labels are scalars (1s and 0s). Let's implement it in Keras."
   ]
  },
  {
   "cell_type": "code",
   "execution_count": null,
   "metadata": {
    "id": "s8FEYkiwvMcg",
    "scrolled": true
   },
   "outputs": [],
   "source": [
    "from tensorflow.keras import models\n",
    "from tensorflow.keras import layers\n",
    "\n",
    "model = models.Sequential()\n",
    "model.add(layers.Dense(16, activation='relu', input_shape=(10000,)))\n",
    "model.add(layers.Dense(16, activation='relu'))\n",
    "model.add(layers.Dense(1, activation='sigmoid'))"
   ]
  },
  {
   "cell_type": "code",
   "execution_count": null,
   "metadata": {
    "colab": {
     "base_uri": "https://localhost:8080/"
    },
    "executionInfo": {
     "elapsed": 5,
     "status": "ok",
     "timestamp": 1662433237197,
     "user": {
      "displayName": "Xin AI",
      "userId": "08487103376102314083"
     },
     "user_tz": -480
    },
    "id": "DFZibuv4vMch",
    "outputId": "fd2eb160-6023-40e7-ce35-830cdb35c556",
    "scrolled": true
   },
   "outputs": [
    {
     "name": "stdout",
     "output_type": "stream",
     "text": [
      "Model: \"sequential\"\n",
      "_________________________________________________________________\n",
      " Layer (type)                Output Shape              Param #   \n",
      "=================================================================\n",
      " dense (Dense)               (None, 16)                160016    \n",
      "                                                                 \n",
      " dense_1 (Dense)             (None, 16)                272       \n",
      "                                                                 \n",
      " dense_2 (Dense)             (None, 1)                 17        \n",
      "                                                                 \n",
      "=================================================================\n",
      "Total params: 160,305\n",
      "Trainable params: 160,305\n",
      "Non-trainable params: 0\n",
      "_________________________________________________________________\n"
     ]
    }
   ],
   "source": [
    "model.summary()"
   ]
  },
  {
   "cell_type": "markdown",
   "metadata": {
    "id": "knY6fOX8vMch"
   },
   "source": [
    "\n",
    "Lastly, we configure our model with the `rmsprop` optimizer and the `binary_crossentropy` loss function. Note that we will \n",
    "also monitor accuracy during training."
   ]
  },
  {
   "cell_type": "code",
   "execution_count": null,
   "metadata": {
    "id": "saXLxAMGvMch",
    "scrolled": true
   },
   "outputs": [],
   "source": [
    "model.compile(optimizer='rmsprop',\n",
    "              loss='binary_crossentropy',\n",
    "              metrics=['acc'])"
   ]
  },
  {
   "cell_type": "markdown",
   "metadata": {
    "id": "E0Z1ZgNJvMch"
   },
   "source": [
    "We are passing our optimizer, loss function and metrics as strings, which is possible because `rmsprop`, `binary_crossentropy` and `accuracy` are packaged as part of Keras. "
   ]
  },
  {
   "cell_type": "markdown",
   "metadata": {
    "id": "6_4YpOMCvMch"
   },
   "source": [
    "### 1.4 Validating our approach\n",
    "\n",
    "In order to monitor during training the accuracy of the model on data that it has never seen before, we will create a \"validation set\" by \n",
    "setting apart 10,000 samples from the original training data:"
   ]
  },
  {
   "cell_type": "code",
   "execution_count": null,
   "metadata": {
    "id": "bjRjsgqWvMch",
    "scrolled": true
   },
   "outputs": [],
   "source": [
    "x_val = x_train[:10000]\n",
    "partial_x_train = x_train[10000:]\n",
    "\n",
    "y_val = y_train[:10000]\n",
    "partial_y_train = y_train[10000:]"
   ]
  },
  {
   "cell_type": "markdown",
   "metadata": {
    "collapsed": true,
    "id": "0MfhFO4TvMci"
   },
   "source": [
    "We will now train our model for 20 epochs, in mini-batches of 512 samples. At same time we will monitor loss and accuracy on the 10,000 samples that we set apart. This is done by passing the validation data as the `validation_data` argument:"
   ]
  },
  {
   "cell_type": "code",
   "execution_count": null,
   "metadata": {
    "colab": {
     "base_uri": "https://localhost:8080/"
    },
    "executionInfo": {
     "elapsed": 42275,
     "status": "ok",
     "timestamp": 1662433285650,
     "user": {
      "displayName": "Xin AI",
      "userId": "08487103376102314083"
     },
     "user_tz": -480
    },
    "id": "pl2UPZpBvMci",
    "outputId": "71c49584-8c60-4208-8bdf-82b75d91f8ed",
    "scrolled": true
   },
   "outputs": [
    {
     "name": "stdout",
     "output_type": "stream",
     "text": [
      "Epoch 1/20\n",
      "30/30 [==============================] - 3s 76ms/step - loss: 0.5372 - acc: 0.7691 - val_loss: 0.4122 - val_acc: 0.8714\n",
      "Epoch 2/20\n",
      "30/30 [==============================] - 1s 46ms/step - loss: 0.3295 - acc: 0.8993 - val_loss: 0.3199 - val_acc: 0.8852\n",
      "Epoch 3/20\n",
      "30/30 [==============================] - 1s 45ms/step - loss: 0.2388 - acc: 0.9246 - val_loss: 0.2838 - val_acc: 0.8905\n",
      "Epoch 4/20\n",
      "30/30 [==============================] - 1s 46ms/step - loss: 0.1839 - acc: 0.9418 - val_loss: 0.2775 - val_acc: 0.8914\n",
      "Epoch 5/20\n",
      "30/30 [==============================] - 1s 46ms/step - loss: 0.1499 - acc: 0.9525 - val_loss: 0.2835 - val_acc: 0.8869\n",
      "Epoch 6/20\n",
      "30/30 [==============================] - 1s 36ms/step - loss: 0.1194 - acc: 0.9662 - val_loss: 0.3693 - val_acc: 0.8608\n",
      "Epoch 7/20\n",
      "30/30 [==============================] - 1s 35ms/step - loss: 0.1046 - acc: 0.9691 - val_loss: 0.3134 - val_acc: 0.8837\n",
      "Epoch 8/20\n",
      "30/30 [==============================] - 1s 35ms/step - loss: 0.0849 - acc: 0.9762 - val_loss: 0.3533 - val_acc: 0.8758\n",
      "Epoch 9/20\n",
      "30/30 [==============================] - 1s 38ms/step - loss: 0.0700 - acc: 0.9827 - val_loss: 0.3472 - val_acc: 0.8781\n",
      "Epoch 10/20\n",
      "30/30 [==============================] - 1s 41ms/step - loss: 0.0581 - acc: 0.9857 - val_loss: 0.3678 - val_acc: 0.8777\n",
      "Epoch 11/20\n",
      "30/30 [==============================] - 1s 35ms/step - loss: 0.0480 - acc: 0.9895 - val_loss: 0.3937 - val_acc: 0.8761\n",
      "Epoch 12/20\n",
      "30/30 [==============================] - 1s 35ms/step - loss: 0.0401 - acc: 0.9909 - val_loss: 0.4231 - val_acc: 0.8746\n",
      "Epoch 13/20\n",
      "30/30 [==============================] - 1s 34ms/step - loss: 0.0312 - acc: 0.9941 - val_loss: 0.4618 - val_acc: 0.8697\n",
      "Epoch 14/20\n",
      "30/30 [==============================] - 1s 40ms/step - loss: 0.0251 - acc: 0.9959 - val_loss: 0.4832 - val_acc: 0.8701\n",
      "Epoch 15/20\n",
      "30/30 [==============================] - 1s 38ms/step - loss: 0.0198 - acc: 0.9971 - val_loss: 0.5782 - val_acc: 0.8582\n",
      "Epoch 16/20\n",
      "30/30 [==============================] - 1s 35ms/step - loss: 0.0191 - acc: 0.9960 - val_loss: 0.5448 - val_acc: 0.8697\n",
      "Epoch 17/20\n",
      "30/30 [==============================] - 1s 34ms/step - loss: 0.0098 - acc: 0.9991 - val_loss: 0.5891 - val_acc: 0.8675\n",
      "Epoch 18/20\n",
      "30/30 [==============================] - 1s 35ms/step - loss: 0.0102 - acc: 0.9985 - val_loss: 0.6204 - val_acc: 0.8667\n",
      "Epoch 19/20\n",
      "30/30 [==============================] - 1s 44ms/step - loss: 0.0111 - acc: 0.9971 - val_loss: 0.6415 - val_acc: 0.8665\n",
      "Epoch 20/20\n",
      "30/30 [==============================] - 1s 35ms/step - loss: 0.0043 - acc: 0.9997 - val_loss: 0.6871 - val_acc: 0.8650\n"
     ]
    }
   ],
   "source": [
    "history = model.fit(partial_x_train,\n",
    "                    partial_y_train,\n",
    "                    epochs=20,\n",
    "                    batch_size=512,\n",
    "                    validation_data=(x_val, y_val))"
   ]
  },
  {
   "cell_type": "markdown",
   "metadata": {
    "id": "FeK37M7ovMci"
   },
   "source": [
    "Note that the call to `model.fit()` returns a `history` object. This object has a member `history`, which is a dictionary containing data about everything that happened during training. Let's take a look at it:"
   ]
  },
  {
   "cell_type": "code",
   "execution_count": null,
   "metadata": {
    "colab": {
     "base_uri": "https://localhost:8080/"
    },
    "executionInfo": {
     "elapsed": 22,
     "status": "ok",
     "timestamp": 1662433285650,
     "user": {
      "displayName": "Xin AI",
      "userId": "08487103376102314083"
     },
     "user_tz": -480
    },
    "id": "rrj0sLWAvMci",
    "outputId": "6d8cef16-2dd3-42a8-b000-01a92ce68f7e",
    "scrolled": true
   },
   "outputs": [
    {
     "data": {
      "text/plain": [
       "dict_keys(['loss', 'acc', 'val_loss', 'val_acc'])"
      ]
     },
     "execution_count": 21,
     "metadata": {},
     "output_type": "execute_result"
    }
   ],
   "source": [
    "history_dict = history.history\n",
    "history_dict.keys()"
   ]
  },
  {
   "cell_type": "markdown",
   "metadata": {
    "id": "pyumvmadvMci"
   },
   "source": [
    "It contains 4 entries: one per metric that was being monitored, during training and during validation. Let's use Matplotlib to plot the \n",
    "training and validation loss side by side, as well as the training and validation accuracy:"
   ]
  },
  {
   "cell_type": "code",
   "execution_count": null,
   "metadata": {
    "colab": {
     "base_uri": "https://localhost:8080/",
     "height": 295
    },
    "executionInfo": {
     "elapsed": 19,
     "status": "ok",
     "timestamp": 1662433285651,
     "user": {
      "displayName": "Xin AI",
      "userId": "08487103376102314083"
     },
     "user_tz": -480
    },
    "id": "h52PHrCOvMci",
    "outputId": "8144f010-613b-4de4-e155-276901433174",
    "scrolled": true
   },
   "outputs": [
    {
     "data": {
      "image/png": "[encoded data removed]",
      "text/plain": [
       "<Figure size 432x288 with 1 Axes>"
      ]
     },
     "metadata": {
      "needs_background": "light"
     },
     "output_type": "display_data"
    }
   ],
   "source": [
    "import matplotlib.pyplot as plt\n",
    "%matplotlib inline\n",
    "\n",
    "acc = history.history['acc']\n",
    "val_acc = history.history['val_acc']\n",
    "loss = history.history['loss']\n",
    "val_loss = history.history['val_loss']\n",
    "\n",
    "epochs = range(1, len(acc) + 1)\n",
    "\n",
    "# \"bo\" is for \"blue dot\"\n",
    "plt.plot(epochs, loss, 'bo', label='Training loss')\n",
    "# b is for \"solid blue line\"\n",
    "plt.plot(epochs, val_loss, 'b', label='Validation loss')\n",
    "plt.title('Training and validation loss')\n",
    "plt.xlabel('Epochs')\n",
    "plt.ylabel('Loss')\n",
    "plt.legend()\n",
    "plt.show()"
   ]
  },
  {
   "cell_type": "code",
   "execution_count": null,
   "metadata": {
    "colab": {
     "base_uri": "https://localhost:8080/",
     "height": 295
    },
    "executionInfo": {
     "elapsed": 722,
     "status": "ok",
     "timestamp": 1662433286355,
     "user": {
      "displayName": "Xin AI",
      "userId": "08487103376102314083"
     },
     "user_tz": -480
    },
    "id": "nYNnePakvMcj",
    "outputId": "85c9eb43-1e65-4f2d-9a38-fb9580fdc3e7",
    "scrolled": true
   },
   "outputs": [
    {
     "data": {
      "image/png": "[encoded data removed]",
      "text/plain": [
       "<Figure size 432x288 with 1 Axes>"
      ]
     },
     "metadata": {
      "needs_background": "light"
     },
     "output_type": "display_data"
    }
   ],
   "source": [
    "plt.clf()   # clear figure\n",
    "plt.plot(epochs, acc, 'bo', label='Training acc')\n",
    "plt.plot(epochs, val_acc, 'b', label='Validation acc')\n",
    "plt.title('Training and validation accuracy')\n",
    "plt.xlabel('Epochs')\n",
    "plt.ylabel('Accuracy')\n",
    "plt.legend()\n",
    "\n",
    "plt.show()"
   ]
  },
  {
   "cell_type": "markdown",
   "metadata": {
    "id": "llqGq2uUvMcj"
   },
   "source": [
    "\n",
    "The dots are the training loss and accuracy, while the solid lines are the validation loss and accuracy. As you can see, the training loss decreases with every epoch and the training accuracy increases with every epoch. That's what you would \n",
    "expect when running gradient descent optimization -- the quantity you are trying to minimize should get lower with every iteration. But that isn't the case for the validation loss and accuracy: they seem to peak at the fourth epoch. A model that performs better on the training data isn't necessarily a model that will do better on data it has never seen before. What you are seeing is \"overfitting\": after the second epoch, we are over-optimizing on the training data, and we ended up learning representations that are specific to the training data and do not generalize to data outside of the training set.\n",
    "\n",
    "In this case, to prevent overfitting, we could simply stop training after three epochs. Let's train a new network from scratch for four epochs, then evaluate it on our test data:"
   ]
  },
  {
   "cell_type": "code",
   "execution_count": null,
   "metadata": {
    "colab": {
     "base_uri": "https://localhost:8080/"
    },
    "executionInfo": {
     "elapsed": 6347,
     "status": "ok",
     "timestamp": 1662433292699,
     "user": {
      "displayName": "Xin AI",
      "userId": "08487103376102314083"
     },
     "user_tz": -480
    },
    "id": "8De4bsqEvMcj",
    "outputId": "0051620b-6622-482e-d395-6448b7373a57",
    "scrolled": true
   },
   "outputs": [
    {
     "name": "stdout",
     "output_type": "stream",
     "text": [
      "Epoch 1/4\n",
      "49/49 [==============================] - 2s 28ms/step - loss: 0.4653 - acc: 0.8199\n",
      "Epoch 2/4\n",
      "49/49 [==============================] - 1s 28ms/step - loss: 0.2699 - acc: 0.9063\n",
      "Epoch 3/4\n",
      "49/49 [==============================] - 1s 28ms/step - loss: 0.2047 - acc: 0.9282\n",
      "Epoch 4/4\n",
      "49/49 [==============================] - 1s 28ms/step - loss: 0.1719 - acc: 0.9390\n"
     ]
    },
    {
     "data": {
      "text/plain": [
       "<keras.callbacks.History at 0x7f6a17bcd250>"
      ]
     },
     "execution_count": 24,
     "metadata": {},
     "output_type": "execute_result"
    }
   ],
   "source": [
    "model = models.Sequential()\n",
    "model.add(layers.Dense(16, activation='relu', input_shape=(10000,)))\n",
    "model.add(layers.Dense(16, activation='relu'))\n",
    "model.add(layers.Dense(1, activation='sigmoid'))\n",
    "\n",
    "model.compile(optimizer='rmsprop',\n",
    "              loss='binary_crossentropy',\n",
    "              metrics=['acc'])\n",
    "\n",
    "model.fit(x_train, y_train, epochs=4, batch_size=512)\n"
   ]
  },
  {
   "cell_type": "code",
   "execution_count": null,
   "metadata": {
    "colab": {
     "base_uri": "https://localhost:8080/"
    },
    "executionInfo": {
     "elapsed": 3554,
     "status": "ok",
     "timestamp": 1662433296250,
     "user": {
      "displayName": "Xin AI",
      "userId": "08487103376102314083"
     },
     "user_tz": -480
    },
    "id": "-XiVuh94vMck",
    "outputId": "2319f1f6-1470-4394-9408-a377b4b0e7f6",
    "scrolled": true
   },
   "outputs": [
    {
     "name": "stdout",
     "output_type": "stream",
     "text": [
      "782/782 - 2s - loss: 0.2907 - acc: 0.8842 - 2s/epoch - 2ms/step\n"
     ]
    },
    {
     "data": {
      "text/plain": [
       "[0.290727436542511, 0.8842399716377258]"
      ]
     },
     "execution_count": 25,
     "metadata": {},
     "output_type": "execute_result"
    }
   ],
   "source": [
    "results = model.evaluate(x_test, y_test, verbose=2)\n",
    "results # returns the loss value and accuracy"
   ]
  },
  {
   "cell_type": "markdown",
   "metadata": {
    "id": "tFF8mZzYvMck"
   },
   "source": [
    "Our fairly naive approach achieves an accuracy of 88%. With state-of-the-art approaches, one should be able to get close to 95%."
   ]
  },
  {
   "cell_type": "markdown",
   "metadata": {
    "id": "T2mlTY_KvMck"
   },
   "source": [
    "### 1.5 Using a trained network to generate predictions on new data\n",
    "\n",
    "After having trained a network, you will want to use it in a practical setting. You can generate the likelihood of reviews being positive \n",
    "by using the `predict` method:"
   ]
  },
  {
   "cell_type": "code",
   "execution_count": null,
   "metadata": {
    "colab": {
     "base_uri": "https://localhost:8080/"
    },
    "executionInfo": {
     "elapsed": 498,
     "status": "ok",
     "timestamp": 1662433306159,
     "user": {
      "displayName": "Xin AI",
      "userId": "08487103376102314083"
     },
     "user_tz": -480
    },
    "id": "iFQVzfaWvMck",
    "outputId": "aad8bedb-19a7-404e-e2cd-d7c65baea427",
    "scrolled": true
   },
   "outputs": [
    {
     "data": {
      "text/plain": [
       "array([[0., 1., 1., ..., 0., 0., 0.],\n",
       "       [0., 1., 1., ..., 0., 0., 0.],\n",
       "       [0., 1., 1., ..., 0., 0., 0.],\n",
       "       ...,\n",
       "       [0., 1., 1., ..., 0., 0., 0.],\n",
       "       [0., 1., 1., ..., 0., 0., 0.],\n",
       "       [0., 1., 1., ..., 0., 0., 0.]])"
      ]
     },
     "execution_count": 26,
     "metadata": {},
     "output_type": "execute_result"
    }
   ],
   "source": [
    "x_test"
   ]
  },
  {
   "cell_type": "code",
   "execution_count": null,
   "metadata": {
    "colab": {
     "base_uri": "https://localhost:8080/"
    },
    "executionInfo": {
     "elapsed": 3110,
     "status": "ok",
     "timestamp": 1662433309688,
     "user": {
      "displayName": "Xin AI",
      "userId": "08487103376102314083"
     },
     "user_tz": -480
    },
    "id": "1AOOoG9IvMck",
    "outputId": "fe7b2d6f-787b-4641-faca-ea547ef53272",
    "scrolled": true
   },
   "outputs": [
    {
     "data": {
      "text/plain": [
       "array([[0.17013788],\n",
       "       [0.999319  ],\n",
       "       [0.8383576 ],\n",
       "       ...,\n",
       "       [0.10988036],\n",
       "       [0.07910872],\n",
       "       [0.66713643]], dtype=float32)"
      ]
     },
     "execution_count": 27,
     "metadata": {},
     "output_type": "execute_result"
    }
   ],
   "source": [
    "model.predict(x_test)"
   ]
  },
  {
   "cell_type": "markdown",
   "metadata": {
    "id": "r059L6cUvMck"
   },
   "source": [
    "As you can see, the network is very confident for some samples (0.99 or more, or 0.01 or less) but less confident for others (0.6, 0.4). \n"
   ]
  },
  {
   "cell_type": "markdown",
   "metadata": {
    "id": "T1eczxqsvMck"
   },
   "source": [
    "## 2. Exercise - tuning model parameters <a id='demo' />\n",
    "Please try to improve model performance by tuning below hyperparameters: \n",
    "* number of layers\n",
    "* number of units in each layer\n",
    "* number of epochs\n",
    "* activation function (e.g. change relu to sigmoid)\n",
    "* Any other suitable hyperparameters \n",
    "\n",
    "\n",
    "Provide your codes & comments in the below boxes.\n"
   ]
  },
  {
   "cell_type": "code",
   "execution_count": null,
   "metadata": {
    "id": "exPxg5EdaSbv"
   },
   "outputs": [],
   "source": []
  },
  {
   "cell_type": "code",
   "execution_count": null,
   "metadata": {
    "id": "zhUB_jWmaSUl"
   },
   "outputs": [],
   "source": []
  },
  {
   "cell_type": "code",
   "execution_count": null,
   "metadata": {
    "id": "I_4J42c7aSOj"
   },
   "outputs": [],
   "source": []
  },
  {
   "cell_type": "code",
   "execution_count": null,
   "metadata": {
    "id": "QVcgOynoaSDX"
   },
   "outputs": [],
   "source": []
  }
 ],
 "metadata": {
  "colab": {
   "collapsed_sections": [],
   "provenance": []
  },
  "kernelspec": {
   "display_name": "Python 3 (ipykernel)",
   "language": "python",
   "name": "python3"
  },
  "language_info": {
   "codemirror_mode": {
    "name": "ipython",
    "version": 3
   },
   "file_extension": ".py",
   "mimetype": "text/x-python",
   "name": "python",
   "nbconvert_exporter": "python",
   "pygments_lexer": "ipython3",
   "version": "3.10.8"
  }
 },
 "nbformat": 4,
 "nbformat_minor": 1
}
